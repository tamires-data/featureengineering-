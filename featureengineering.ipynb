{
  "nbformat": 4,
  "nbformat_minor": 0,
  "metadata": {
    "colab": {
      "name": "licitacao.ipynb",
      "provenance": [],
      "collapsed_sections": []
    },
    "kernelspec": {
      "name": "python3",
      "display_name": "Python 3"
    },
    "language_info": {
      "name": "python"
    }
  },
  "cells": [
    {
      "cell_type": "code",
      "metadata": {
        "id": "KZbVGv-dqW0b"
      },
      "source": [
        "import pandas as pd\n",
        "import matplotlib.pyplot as plt\n",
        "\n",
        "# to display the total number columns present in the dataset\n",
        "pd.set_option('display.max_columns', None)"
      ],
      "execution_count": 1,
      "outputs": []
    },
    {
      "cell_type": "code",
      "metadata": {
        "colab": {
          "base_uri": "https://localhost:8080/",
          "height": 507
        },
        "id": "BjmHCzByqaHN",
        "outputId": "f4dc1132-a333-4f5a-9ff3-76ec87970818"
      },
      "source": [
        "# load the dataset\n",
        "data = pd.read_csv('licitacao.csv')\n",
        "\n",
        "# let's inspect the first 5 rows\n",
        "data.head()"
      ],
      "execution_count": 3,
      "outputs": [
        {
          "output_type": "stream",
          "text": [
            "/usr/local/lib/python3.7/dist-packages/IPython/core/interactiveshell.py:2718: DtypeWarning: Columns (14,22,24,25,28,29) have mixed types.Specify dtype option on import or set low_memory=False.\n",
            "  interactivity=interactivity, compiler=compiler, result=result)\n"
          ],
          "name": "stderr"
        },
        {
          "output_type": "execute_result",
          "data": {
            "text/html": [
              "<div>\n",
              "<style scoped>\n",
              "    .dataframe tbody tr th:only-of-type {\n",
              "        vertical-align: middle;\n",
              "    }\n",
              "\n",
              "    .dataframe tbody tr th {\n",
              "        vertical-align: top;\n",
              "    }\n",
              "\n",
              "    .dataframe thead th {\n",
              "        text-align: right;\n",
              "    }\n",
              "</style>\n",
              "<table border=\"1\" class=\"dataframe\">\n",
              "  <thead>\n",
              "    <tr style=\"text-align: right;\">\n",
              "      <th></th>\n",
              "      <th>CD_ORGAO</th>\n",
              "      <th>NM_ORGAO</th>\n",
              "      <th>NR_LICITACAO</th>\n",
              "      <th>ANO_LICITACAO</th>\n",
              "      <th>CD_TIPO_MODALIDADE</th>\n",
              "      <th>NR_COMISSAO</th>\n",
              "      <th>ANO_COMISSAO</th>\n",
              "      <th>TP_COMISSAO</th>\n",
              "      <th>NR_PROCESSO</th>\n",
              "      <th>ANO_PROCESSO</th>\n",
              "      <th>TP_OBJETO</th>\n",
              "      <th>CD_TIPO_FASE_ATUAL</th>\n",
              "      <th>TP_LICITACAO</th>\n",
              "      <th>TP_NIVEL_JULGAMENTO</th>\n",
              "      <th>DT_AUTORIZACAO_ADESAO</th>\n",
              "      <th>TP_CARACTERISTICA_OBJETO</th>\n",
              "      <th>TP_NATUREZA</th>\n",
              "      <th>TP_REGIME_EXECUCAO</th>\n",
              "      <th>BL_PERMITE_SUBCONTRATACAO</th>\n",
              "      <th>TP_BENEFICIO_MICRO_EPP</th>\n",
              "      <th>TP_FORNECIMENTO</th>\n",
              "      <th>TP_ATUACAO_REGISTRO</th>\n",
              "      <th>NR_LICITACAO_ORIGINAL</th>\n",
              "      <th>ANO_LICITACAO_ORIGINAL</th>\n",
              "      <th>NR_ATA_REGISTRO_PRECO</th>\n",
              "      <th>DT_ATA_REGISTRO_PRECO</th>\n",
              "      <th>PC_TAXA_RISCO</th>\n",
              "      <th>TP_EXECUCAO</th>\n",
              "      <th>TP_DISPUTA</th>\n",
              "      <th>TP_PREQUALIFICACAO</th>\n",
              "      <th>BL_INVERSAO_FASES</th>\n",
              "      <th>TP_RESULTADO_GLOBAL</th>\n",
              "      <th>CNPJ_ORGAO_GERENCIADOR</th>\n",
              "      <th>NM_ORGAO_GERENCIADOR</th>\n",
              "      <th>DS_OBJETO</th>\n",
              "      <th>CD_TIPO_FUNDAMENTACAO</th>\n",
              "      <th>NR_ARTIGO</th>\n",
              "      <th>DS_INCISO</th>\n",
              "      <th>DS_LEI</th>\n",
              "      <th>DT_INICIO_INSCR_CRED</th>\n",
              "      <th>DT_FIM_INSCR_CRED</th>\n",
              "      <th>DT_INICIO_VIGEN_CRED</th>\n",
              "      <th>DT_FIM_VIGEN_CRED</th>\n",
              "      <th>VL_LICITACAO</th>\n",
              "      <th>BL_ORCAMENTO_SIGILOSO</th>\n",
              "      <th>BL_RECEBE_INSCRICAO_PER_VIG</th>\n",
              "      <th>BL_PERMITE_CONSORCIO</th>\n",
              "      <th>DT_ABERTURA</th>\n",
              "      <th>DT_HOMOLOGACAO</th>\n",
              "      <th>DT_ADJUDICACAO</th>\n",
              "      <th>BL_LICIT_PROPRIA_ORGAO</th>\n",
              "      <th>TP_DOCUMENTO_FORNECEDOR</th>\n",
              "      <th>NR_DOCUMENTO_FORNECEDOR</th>\n",
              "      <th>TP_DOCUMENTO_VENCEDOR</th>\n",
              "      <th>NR_DOCUMENTO_VENCEDOR</th>\n",
              "      <th>VL_HOMOLOGADO</th>\n",
              "      <th>BL_GERA_DESPESA</th>\n",
              "      <th>DS_OBSERVACAO</th>\n",
              "      <th>PC_TX_ESTIMADA</th>\n",
              "      <th>PC_TX_HOMOLOGADA</th>\n",
              "      <th>BL_COMPARTILHADA</th>\n",
              "    </tr>\n",
              "  </thead>\n",
              "  <tbody>\n",
              "    <tr>\n",
              "      <th>0</th>\n",
              "      <td>84100</td>\n",
              "      <td>PM DE ESPERANÇA DO SUL</td>\n",
              "      <td>1.0</td>\n",
              "      <td>2016</td>\n",
              "      <td>CNV</td>\n",
              "      <td>12.0</td>\n",
              "      <td>2016.0</td>\n",
              "      <td>P</td>\n",
              "      <td>001</td>\n",
              "      <td>2016</td>\n",
              "      <td>OUS</td>\n",
              "      <td>ADH</td>\n",
              "      <td>MPR</td>\n",
              "      <td>G</td>\n",
              "      <td>NaN</td>\n",
              "      <td>IU</td>\n",
              "      <td>N</td>\n",
              "      <td>NaN</td>\n",
              "      <td>N</td>\n",
              "      <td>N</td>\n",
              "      <td>NaN</td>\n",
              "      <td>NaN</td>\n",
              "      <td>NaN</td>\n",
              "      <td>NaN</td>\n",
              "      <td>NaN</td>\n",
              "      <td>NaN</td>\n",
              "      <td>NaN</td>\n",
              "      <td>NaN</td>\n",
              "      <td>NaN</td>\n",
              "      <td>NaN</td>\n",
              "      <td>N</td>\n",
              "      <td>A</td>\n",
              "      <td>NaN</td>\n",
              "      <td>NaN</td>\n",
              "      <td>Contratação de arbitragem dos jogos do 2º camp...</td>\n",
              "      <td>NaN</td>\n",
              "      <td>NaN</td>\n",
              "      <td>NaN</td>\n",
              "      <td>NaN</td>\n",
              "      <td>NaN</td>\n",
              "      <td>NaN</td>\n",
              "      <td>NaN</td>\n",
              "      <td>NaN</td>\n",
              "      <td>7000.0</td>\n",
              "      <td>NaN</td>\n",
              "      <td>NaN</td>\n",
              "      <td>N</td>\n",
              "      <td>2016-01-12</td>\n",
              "      <td>2016-01-19</td>\n",
              "      <td>2016-01-19</td>\n",
              "      <td>S</td>\n",
              "      <td>NaN</td>\n",
              "      <td>NaN</td>\n",
              "      <td>J</td>\n",
              "      <td>6.233397e+12</td>\n",
              "      <td>6420.0</td>\n",
              "      <td>S</td>\n",
              "      <td>NaN</td>\n",
              "      <td>NaN</td>\n",
              "      <td>NaN</td>\n",
              "      <td>N</td>\n",
              "    </tr>\n",
              "    <tr>\n",
              "      <th>1</th>\n",
              "      <td>84100</td>\n",
              "      <td>PM DE ESPERANÇA DO SUL</td>\n",
              "      <td>4.0</td>\n",
              "      <td>2016</td>\n",
              "      <td>CNV</td>\n",
              "      <td>12.0</td>\n",
              "      <td>2016.0</td>\n",
              "      <td>P</td>\n",
              "      <td>003</td>\n",
              "      <td>2016</td>\n",
              "      <td>COM</td>\n",
              "      <td>ADH</td>\n",
              "      <td>MPR</td>\n",
              "      <td>I</td>\n",
              "      <td>NaN</td>\n",
              "      <td>IT</td>\n",
              "      <td>N</td>\n",
              "      <td>NaN</td>\n",
              "      <td>N</td>\n",
              "      <td>N</td>\n",
              "      <td>P</td>\n",
              "      <td>NaN</td>\n",
              "      <td>NaN</td>\n",
              "      <td>NaN</td>\n",
              "      <td>NaN</td>\n",
              "      <td>NaN</td>\n",
              "      <td>NaN</td>\n",
              "      <td>NaN</td>\n",
              "      <td>NaN</td>\n",
              "      <td>NaN</td>\n",
              "      <td>N</td>\n",
              "      <td>NaN</td>\n",
              "      <td>NaN</td>\n",
              "      <td>NaN</td>\n",
              "      <td>Aquisição de merenda escolar</td>\n",
              "      <td>NaN</td>\n",
              "      <td>NaN</td>\n",
              "      <td>NaN</td>\n",
              "      <td>NaN</td>\n",
              "      <td>NaN</td>\n",
              "      <td>NaN</td>\n",
              "      <td>NaN</td>\n",
              "      <td>NaN</td>\n",
              "      <td>11216.5</td>\n",
              "      <td>NaN</td>\n",
              "      <td>NaN</td>\n",
              "      <td>N</td>\n",
              "      <td>2016-01-22</td>\n",
              "      <td>2016-01-29</td>\n",
              "      <td>2016-01-29</td>\n",
              "      <td>S</td>\n",
              "      <td>NaN</td>\n",
              "      <td>NaN</td>\n",
              "      <td>NaN</td>\n",
              "      <td>NaN</td>\n",
              "      <td>NaN</td>\n",
              "      <td>S</td>\n",
              "      <td>NaN</td>\n",
              "      <td>NaN</td>\n",
              "      <td>NaN</td>\n",
              "      <td>N</td>\n",
              "    </tr>\n",
              "    <tr>\n",
              "      <th>2</th>\n",
              "      <td>82701</td>\n",
              "      <td>CM DE XANGRI-LÁ</td>\n",
              "      <td>1.0</td>\n",
              "      <td>2016</td>\n",
              "      <td>PRP</td>\n",
              "      <td>12.0</td>\n",
              "      <td>2016.0</td>\n",
              "      <td>G</td>\n",
              "      <td>01</td>\n",
              "      <td>2016</td>\n",
              "      <td>COM</td>\n",
              "      <td>ADH</td>\n",
              "      <td>MPR</td>\n",
              "      <td>I</td>\n",
              "      <td>NaN</td>\n",
              "      <td>IT</td>\n",
              "      <td>N</td>\n",
              "      <td>NaN</td>\n",
              "      <td>N</td>\n",
              "      <td>N</td>\n",
              "      <td>I</td>\n",
              "      <td>NaN</td>\n",
              "      <td>NaN</td>\n",
              "      <td>NaN</td>\n",
              "      <td>NaN</td>\n",
              "      <td>NaN</td>\n",
              "      <td>NaN</td>\n",
              "      <td>NaN</td>\n",
              "      <td>NaN</td>\n",
              "      <td>NaN</td>\n",
              "      <td>N</td>\n",
              "      <td>NaN</td>\n",
              "      <td>NaN</td>\n",
              "      <td>NaN</td>\n",
              "      <td>AQUISIÇÃO DE PROTOCOLADORA E FRAGMENTADORA DE ...</td>\n",
              "      <td>NaN</td>\n",
              "      <td>NaN</td>\n",
              "      <td>NaN</td>\n",
              "      <td>NaN</td>\n",
              "      <td>NaN</td>\n",
              "      <td>NaN</td>\n",
              "      <td>NaN</td>\n",
              "      <td>NaN</td>\n",
              "      <td>NaN</td>\n",
              "      <td>S</td>\n",
              "      <td>NaN</td>\n",
              "      <td>N</td>\n",
              "      <td>2016-01-26</td>\n",
              "      <td>2016-02-01</td>\n",
              "      <td>2016-02-01</td>\n",
              "      <td>S</td>\n",
              "      <td>NaN</td>\n",
              "      <td>NaN</td>\n",
              "      <td>NaN</td>\n",
              "      <td>NaN</td>\n",
              "      <td>NaN</td>\n",
              "      <td>S</td>\n",
              "      <td>NaN</td>\n",
              "      <td>NaN</td>\n",
              "      <td>NaN</td>\n",
              "      <td>N</td>\n",
              "    </tr>\n",
              "    <tr>\n",
              "      <th>3</th>\n",
              "      <td>84100</td>\n",
              "      <td>PM DE ESPERANÇA DO SUL</td>\n",
              "      <td>6.0</td>\n",
              "      <td>2016</td>\n",
              "      <td>CNV</td>\n",
              "      <td>12.0</td>\n",
              "      <td>2016.0</td>\n",
              "      <td>P</td>\n",
              "      <td>005</td>\n",
              "      <td>2016</td>\n",
              "      <td>COM</td>\n",
              "      <td>ADH</td>\n",
              "      <td>MPR</td>\n",
              "      <td>I</td>\n",
              "      <td>NaN</td>\n",
              "      <td>IT</td>\n",
              "      <td>N</td>\n",
              "      <td>NaN</td>\n",
              "      <td>N</td>\n",
              "      <td>N</td>\n",
              "      <td>I</td>\n",
              "      <td>NaN</td>\n",
              "      <td>NaN</td>\n",
              "      <td>NaN</td>\n",
              "      <td>NaN</td>\n",
              "      <td>NaN</td>\n",
              "      <td>NaN</td>\n",
              "      <td>NaN</td>\n",
              "      <td>NaN</td>\n",
              "      <td>NaN</td>\n",
              "      <td>N</td>\n",
              "      <td>NaN</td>\n",
              "      <td>NaN</td>\n",
              "      <td>NaN</td>\n",
              "      <td>Aquisição de materiais de limpeza para as dive...</td>\n",
              "      <td>NaN</td>\n",
              "      <td>NaN</td>\n",
              "      <td>NaN</td>\n",
              "      <td>NaN</td>\n",
              "      <td>NaN</td>\n",
              "      <td>NaN</td>\n",
              "      <td>NaN</td>\n",
              "      <td>NaN</td>\n",
              "      <td>59810.6</td>\n",
              "      <td>NaN</td>\n",
              "      <td>NaN</td>\n",
              "      <td>N</td>\n",
              "      <td>2016-02-02</td>\n",
              "      <td>2016-02-11</td>\n",
              "      <td>2016-02-11</td>\n",
              "      <td>S</td>\n",
              "      <td>NaN</td>\n",
              "      <td>NaN</td>\n",
              "      <td>NaN</td>\n",
              "      <td>NaN</td>\n",
              "      <td>NaN</td>\n",
              "      <td>S</td>\n",
              "      <td>NaN</td>\n",
              "      <td>NaN</td>\n",
              "      <td>NaN</td>\n",
              "      <td>N</td>\n",
              "    </tr>\n",
              "    <tr>\n",
              "      <th>4</th>\n",
              "      <td>63900</td>\n",
              "      <td>PM DE COTIPORÃ</td>\n",
              "      <td>36.0</td>\n",
              "      <td>2016</td>\n",
              "      <td>PRD</td>\n",
              "      <td>NaN</td>\n",
              "      <td>NaN</td>\n",
              "      <td>NaN</td>\n",
              "      <td>344</td>\n",
              "      <td>2016</td>\n",
              "      <td>CSE</td>\n",
              "      <td>PUB</td>\n",
              "      <td>NSA</td>\n",
              "      <td>G</td>\n",
              "      <td>NaN</td>\n",
              "      <td>IT</td>\n",
              "      <td>N</td>\n",
              "      <td>NaN</td>\n",
              "      <td>NaN</td>\n",
              "      <td>N</td>\n",
              "      <td>I</td>\n",
              "      <td>NaN</td>\n",
              "      <td>NaN</td>\n",
              "      <td>NaN</td>\n",
              "      <td>NaN</td>\n",
              "      <td>NaN</td>\n",
              "      <td>NaN</td>\n",
              "      <td>NaN</td>\n",
              "      <td>NaN</td>\n",
              "      <td>NaN</td>\n",
              "      <td>N</td>\n",
              "      <td>NaN</td>\n",
              "      <td>NaN</td>\n",
              "      <td>NaN</td>\n",
              "      <td>CONTRATAÇÃO DE EMPRESA PARA FORNECIMENTO E INS...</td>\n",
              "      <td>OUTD</td>\n",
              "      <td>24.0</td>\n",
              "      <td>II</td>\n",
              "      <td>8666/93</td>\n",
              "      <td>NaN</td>\n",
              "      <td>NaN</td>\n",
              "      <td>NaN</td>\n",
              "      <td>NaN</td>\n",
              "      <td>3835.0</td>\n",
              "      <td>NaN</td>\n",
              "      <td>NaN</td>\n",
              "      <td>N</td>\n",
              "      <td>2016-05-04</td>\n",
              "      <td>NaN</td>\n",
              "      <td>NaN</td>\n",
              "      <td>S</td>\n",
              "      <td>J</td>\n",
              "      <td>9.255424e+12</td>\n",
              "      <td>NaN</td>\n",
              "      <td>NaN</td>\n",
              "      <td>NaN</td>\n",
              "      <td>S</td>\n",
              "      <td>NaN</td>\n",
              "      <td>NaN</td>\n",
              "      <td>NaN</td>\n",
              "      <td>N</td>\n",
              "    </tr>\n",
              "  </tbody>\n",
              "</table>\n",
              "</div>"
            ],
            "text/plain": [
              "   CD_ORGAO                NM_ORGAO  NR_LICITACAO  ANO_LICITACAO  \\\n",
              "0     84100  PM DE ESPERANÇA DO SUL           1.0           2016   \n",
              "1     84100  PM DE ESPERANÇA DO SUL           4.0           2016   \n",
              "2     82701         CM DE XANGRI-LÁ           1.0           2016   \n",
              "3     84100  PM DE ESPERANÇA DO SUL           6.0           2016   \n",
              "4     63900          PM DE COTIPORÃ          36.0           2016   \n",
              "\n",
              "  CD_TIPO_MODALIDADE  NR_COMISSAO  ANO_COMISSAO TP_COMISSAO NR_PROCESSO  \\\n",
              "0                CNV         12.0        2016.0           P         001   \n",
              "1                CNV         12.0        2016.0           P         003   \n",
              "2                PRP         12.0        2016.0           G          01   \n",
              "3                CNV         12.0        2016.0           P         005   \n",
              "4                PRD          NaN           NaN         NaN         344   \n",
              "\n",
              "   ANO_PROCESSO TP_OBJETO CD_TIPO_FASE_ATUAL TP_LICITACAO TP_NIVEL_JULGAMENTO  \\\n",
              "0          2016       OUS                ADH          MPR                   G   \n",
              "1          2016       COM                ADH          MPR                   I   \n",
              "2          2016       COM                ADH          MPR                   I   \n",
              "3          2016       COM                ADH          MPR                   I   \n",
              "4          2016       CSE                PUB          NSA                   G   \n",
              "\n",
              "  DT_AUTORIZACAO_ADESAO TP_CARACTERISTICA_OBJETO TP_NATUREZA  \\\n",
              "0                   NaN                       IU           N   \n",
              "1                   NaN                       IT           N   \n",
              "2                   NaN                       IT           N   \n",
              "3                   NaN                       IT           N   \n",
              "4                   NaN                       IT           N   \n",
              "\n",
              "  TP_REGIME_EXECUCAO BL_PERMITE_SUBCONTRATACAO TP_BENEFICIO_MICRO_EPP  \\\n",
              "0                NaN                         N                      N   \n",
              "1                NaN                         N                      N   \n",
              "2                NaN                         N                      N   \n",
              "3                NaN                         N                      N   \n",
              "4                NaN                       NaN                      N   \n",
              "\n",
              "  TP_FORNECIMENTO TP_ATUACAO_REGISTRO NR_LICITACAO_ORIGINAL  \\\n",
              "0             NaN                 NaN                   NaN   \n",
              "1               P                 NaN                   NaN   \n",
              "2               I                 NaN                   NaN   \n",
              "3               I                 NaN                   NaN   \n",
              "4               I                 NaN                   NaN   \n",
              "\n",
              "   ANO_LICITACAO_ORIGINAL NR_ATA_REGISTRO_PRECO DT_ATA_REGISTRO_PRECO  \\\n",
              "0                     NaN                   NaN                   NaN   \n",
              "1                     NaN                   NaN                   NaN   \n",
              "2                     NaN                   NaN                   NaN   \n",
              "3                     NaN                   NaN                   NaN   \n",
              "4                     NaN                   NaN                   NaN   \n",
              "\n",
              "   PC_TAXA_RISCO TP_EXECUCAO TP_DISPUTA TP_PREQUALIFICACAO BL_INVERSAO_FASES  \\\n",
              "0            NaN         NaN        NaN                NaN                 N   \n",
              "1            NaN         NaN        NaN                NaN                 N   \n",
              "2            NaN         NaN        NaN                NaN                 N   \n",
              "3            NaN         NaN        NaN                NaN                 N   \n",
              "4            NaN         NaN        NaN                NaN                 N   \n",
              "\n",
              "  TP_RESULTADO_GLOBAL  CNPJ_ORGAO_GERENCIADOR NM_ORGAO_GERENCIADOR  \\\n",
              "0                   A                     NaN                  NaN   \n",
              "1                 NaN                     NaN                  NaN   \n",
              "2                 NaN                     NaN                  NaN   \n",
              "3                 NaN                     NaN                  NaN   \n",
              "4                 NaN                     NaN                  NaN   \n",
              "\n",
              "                                           DS_OBJETO CD_TIPO_FUNDAMENTACAO  \\\n",
              "0  Contratação de arbitragem dos jogos do 2º camp...                   NaN   \n",
              "1                      Aquisição de merenda escolar                    NaN   \n",
              "2  AQUISIÇÃO DE PROTOCOLADORA E FRAGMENTADORA DE ...                   NaN   \n",
              "3  Aquisição de materiais de limpeza para as dive...                   NaN   \n",
              "4  CONTRATAÇÃO DE EMPRESA PARA FORNECIMENTO E INS...                  OUTD   \n",
              "\n",
              "   NR_ARTIGO DS_INCISO   DS_LEI DT_INICIO_INSCR_CRED DT_FIM_INSCR_CRED  \\\n",
              "0        NaN       NaN      NaN                  NaN               NaN   \n",
              "1        NaN       NaN      NaN                  NaN               NaN   \n",
              "2        NaN       NaN      NaN                  NaN               NaN   \n",
              "3        NaN       NaN      NaN                  NaN               NaN   \n",
              "4       24.0        II  8666/93                  NaN               NaN   \n",
              "\n",
              "  DT_INICIO_VIGEN_CRED DT_FIM_VIGEN_CRED  VL_LICITACAO BL_ORCAMENTO_SIGILOSO  \\\n",
              "0                  NaN               NaN        7000.0                   NaN   \n",
              "1                  NaN               NaN       11216.5                   NaN   \n",
              "2                  NaN               NaN           NaN                     S   \n",
              "3                  NaN               NaN       59810.6                   NaN   \n",
              "4                  NaN               NaN        3835.0                   NaN   \n",
              "\n",
              "  BL_RECEBE_INSCRICAO_PER_VIG BL_PERMITE_CONSORCIO DT_ABERTURA DT_HOMOLOGACAO  \\\n",
              "0                         NaN                    N  2016-01-12     2016-01-19   \n",
              "1                         NaN                    N  2016-01-22     2016-01-29   \n",
              "2                         NaN                    N  2016-01-26     2016-02-01   \n",
              "3                         NaN                    N  2016-02-02     2016-02-11   \n",
              "4                         NaN                    N  2016-05-04            NaN   \n",
              "\n",
              "  DT_ADJUDICACAO BL_LICIT_PROPRIA_ORGAO TP_DOCUMENTO_FORNECEDOR  \\\n",
              "0     2016-01-19                      S                     NaN   \n",
              "1     2016-01-29                      S                     NaN   \n",
              "2     2016-02-01                      S                     NaN   \n",
              "3     2016-02-11                      S                     NaN   \n",
              "4            NaN                      S                       J   \n",
              "\n",
              "   NR_DOCUMENTO_FORNECEDOR TP_DOCUMENTO_VENCEDOR  NR_DOCUMENTO_VENCEDOR  \\\n",
              "0                      NaN                     J           6.233397e+12   \n",
              "1                      NaN                   NaN                    NaN   \n",
              "2                      NaN                   NaN                    NaN   \n",
              "3                      NaN                   NaN                    NaN   \n",
              "4             9.255424e+12                   NaN                    NaN   \n",
              "\n",
              "   VL_HOMOLOGADO BL_GERA_DESPESA DS_OBSERVACAO  PC_TX_ESTIMADA  \\\n",
              "0         6420.0               S           NaN             NaN   \n",
              "1            NaN               S           NaN             NaN   \n",
              "2            NaN               S           NaN             NaN   \n",
              "3            NaN               S           NaN             NaN   \n",
              "4            NaN               S           NaN             NaN   \n",
              "\n",
              "   PC_TX_HOMOLOGADA BL_COMPARTILHADA  \n",
              "0               NaN                N  \n",
              "1               NaN                N  \n",
              "2               NaN                N  \n",
              "3               NaN                N  \n",
              "4               NaN                N  "
            ]
          },
          "metadata": {
            "tags": []
          },
          "execution_count": 3
        }
      ]
    },
    {
      "cell_type": "code",
      "metadata": {
        "colab": {
          "base_uri": "https://localhost:8080/"
        },
        "id": "lWuUsjBPqsJe",
        "outputId": "48bda665-8185-4e4e-db4d-ecdb8ff24099"
      },
      "source": [
        "# we can quantify the total number of missing values using\n",
        "# the isnull() method plus the sum() method on the dataframe\n",
        "\n",
        "data.isnull().sum()"
      ],
      "execution_count": 4,
      "outputs": [
        {
          "output_type": "execute_result",
          "data": {
            "text/plain": [
              "CD_ORGAO                  0\n",
              "NM_ORGAO                  0\n",
              "NR_LICITACAO              0\n",
              "ANO_LICITACAO             0\n",
              "CD_TIPO_MODALIDADE        0\n",
              "                      ...  \n",
              "BL_GERA_DESPESA           1\n",
              "DS_OBSERVACAO         15812\n",
              "PC_TX_ESTIMADA        16454\n",
              "PC_TX_HOMOLOGADA      16454\n",
              "BL_COMPARTILHADA          1\n",
              "Length: 61, dtype: int64"
            ]
          },
          "metadata": {
            "tags": []
          },
          "execution_count": 4
        }
      ]
    },
    {
      "cell_type": "code",
      "metadata": {
        "colab": {
          "base_uri": "https://localhost:8080/"
        },
        "id": "-xeo_5Btqzn0",
        "outputId": "d271e9b9-e294-4e14-cfbd-af224645dd66"
      },
      "source": [
        "# alternatively, we can use the mean() method after isnull()\n",
        "# to visualise the percentage of missing values for each variable\n",
        "\n",
        "data.isnull().mean()"
      ],
      "execution_count": 5,
      "outputs": [
        {
          "output_type": "execute_result",
          "data": {
            "text/plain": [
              "CD_ORGAO              0.000000\n",
              "NM_ORGAO              0.000000\n",
              "NR_LICITACAO          0.000000\n",
              "ANO_LICITACAO         0.000000\n",
              "CD_TIPO_MODALIDADE    0.000000\n",
              "                        ...   \n",
              "BL_GERA_DESPESA       0.000061\n",
              "DS_OBSERVACAO         0.960982\n",
              "PC_TX_ESTIMADA        1.000000\n",
              "PC_TX_HOMOLOGADA      1.000000\n",
              "BL_COMPARTILHADA      0.000061\n",
              "Length: 61, dtype: float64"
            ]
          },
          "metadata": {
            "tags": []
          },
          "execution_count": 5
        }
      ]
    },
    {
      "cell_type": "code",
      "metadata": {
        "colab": {
          "base_uri": "https://localhost:8080/",
          "height": 574
        },
        "id": "cdwLbdpRq7cb",
        "outputId": "068b683c-67ed-4680-fa42-f4b2fb755809"
      },
      "source": [
        "# we can also plot the percentages of missing data utilising\n",
        "# pandas plot.bar(), and add labels with matplotlib methods \n",
        "# as shown below\n",
        "\n",
        "data.isnull().mean().plot.bar(figsize=(12,6))\n",
        "plt.ylabel('Percentage of missing values')\n",
        "plt.xlabel('Variables')\n",
        "plt.title('Quantifying missing data')"
      ],
      "execution_count": 6,
      "outputs": [
        {
          "output_type": "execute_result",
          "data": {
            "text/plain": [
              "Text(0.5, 1.0, 'Quantifying missing data')"
            ]
          },
          "metadata": {
            "tags": []
          },
          "execution_count": 6
        },
        {
          "output_type": "display_data",
          "data": {
            "image/png": "[encoded data removed]",
            "text/plain": [
              "<Figure size 864x432 with 1 Axes>"
            ]
          },
          "metadata": {
            "tags": [],
            "needs_background": "light"
          }
        }
      ]
    },
    {
      "cell_type": "code",
      "metadata": {
        "colab": {
          "base_uri": "https://localhost:8080/"
        },
        "id": "aKvxd5Ter889",
        "outputId": "524a1149-3255-4c06-dfb2-205631dc2cd0"
      },
      "source": [
        "# with the following command we can learn the cardinality\n",
        "# of each of the loaded variables\n",
        "\n",
        "data.nunique()"
      ],
      "execution_count": 7,
      "outputs": [
        {
          "output_type": "execute_result",
          "data": {
            "text/plain": [
              "CD_ORGAO               657\n",
              "NM_ORGAO               657\n",
              "NR_LICITACAO          1858\n",
              "ANO_LICITACAO            1\n",
              "CD_TIPO_MODALIDADE      14\n",
              "                      ... \n",
              "BL_GERA_DESPESA          2\n",
              "DS_OBSERVACAO          152\n",
              "PC_TX_ESTIMADA           0\n",
              "PC_TX_HOMOLOGADA         0\n",
              "BL_COMPARTILHADA         1\n",
              "Length: 61, dtype: int64"
            ]
          },
          "metadata": {
            "tags": []
          },
          "execution_count": 7
        }
      ]
    },
    {
      "cell_type": "code",
      "metadata": {
        "colab": {
          "base_uri": "https://localhost:8080/"
        },
        "id": "jWLVTeVqsUgN",
        "outputId": "1a51d60e-b01d-43d7-d8c8-a2bf1aa11e80"
      },
      "source": [
        "# nunique() ignores missing data by default. If we want\n",
        "# to consider missing values as an additional category\n",
        "# we need to explicitly mention so, passing the argument\n",
        "# dropna=False\n",
        "\n",
        "data.nunique(dropna=False)"
      ],
      "execution_count": 8,
      "outputs": [
        {
          "output_type": "execute_result",
          "data": {
            "text/plain": [
              "CD_ORGAO               657\n",
              "NM_ORGAO               657\n",
              "NR_LICITACAO          1858\n",
              "ANO_LICITACAO            1\n",
              "CD_TIPO_MODALIDADE      14\n",
              "                      ... \n",
              "BL_GERA_DESPESA          3\n",
              "DS_OBSERVACAO          153\n",
              "PC_TX_ESTIMADA           1\n",
              "PC_TX_HOMOLOGADA         1\n",
              "BL_COMPARTILHADA         2\n",
              "Length: 61, dtype: int64"
            ]
          },
          "metadata": {
            "tags": []
          },
          "execution_count": 8
        }
      ]
    },
    {
      "cell_type": "code",
      "metadata": {
        "colab": {
          "base_uri": "https://localhost:8080/",
          "height": 574
        },
        "id": "-1f8SF6xsfHO",
        "outputId": "0d85e07f-0fc9-482b-9e3e-6b4a315bf8b9"
      },
      "source": [
        "# let's plot the cardinality of the variables \n",
        "\n",
        "data.nunique().plot.bar(figsize=(12,6))\n",
        "\n",
        "# add labels and title\n",
        "plt.ylabel('Number of unique categories')\n",
        "plt.xlabel('Variables')\n",
        "plt.title('Cardinality')"
      ],
      "execution_count": 11,
      "outputs": [
        {
          "output_type": "execute_result",
          "data": {
            "text/plain": [
              "Text(0.5, 1.0, 'Cardinality')"
            ]
          },
          "metadata": {
            "tags": []
          },
          "execution_count": 11
        },
        {
          "output_type": "display_data",
          "data": {
            "image/png": "[encoded data removed]",
            "text/plain": [
              "<Figure size 864x432 with 1 Axes>"
            ]
          },
          "metadata": {
            "tags": [],
            "needs_background": "light"
          }
        }
      ]
    },
    {
      "cell_type": "code",
      "metadata": {
        "colab": {
          "base_uri": "https://localhost:8080/"
        },
        "id": "ypaswvrytL1v",
        "outputId": "f3ce70cb-69cd-4728-ce11-5143db8f0bff"
      },
      "source": [
        "# if we want to evaluate the cardinality of only a subset \n",
        "# of columns from a data set, we can do so by passing the\n",
        "# columns of interest as follows:\n",
        "\n",
        "# evaluate cardinality of variables of choice\n",
        "data[['NR_LICITACAO', 'NR_PROCESSO','DS_OBJETO','VL_LICITACAO']].nunique()"
      ],
      "execution_count": 12,
      "outputs": [
        {
          "output_type": "execute_result",
          "data": {
            "text/plain": [
              "NR_LICITACAO     1858\n",
              "NR_PROCESSO      5319\n",
              "DS_OBJETO       15170\n",
              "VL_LICITACAO    11360\n",
              "dtype: int64"
            ]
          },
          "metadata": {
            "tags": []
          },
          "execution_count": 12
        }
      ]
    },
    {
      "cell_type": "code",
      "metadata": {
        "colab": {
          "base_uri": "https://localhost:8080/"
        },
        "id": "UZGLq-O2t344",
        "outputId": "e985e8d8-3de3-44e1-8703-a29a92db1861"
      },
      "source": [
        "data['DS_OBJETO'].unique()"
      ],
      "execution_count": 15,
      "outputs": [
        {
          "output_type": "execute_result",
          "data": {
            "text/plain": [
              "array(['Contratação de arbitragem dos jogos do 2º campeonato de integração dos balneários ',\n",
              "       'Aquisição de merenda escolar ',\n",
              "       'AQUISIÇÃO DE PROTOCOLADORA E FRAGMENTADORA DE PAPEL.', ...,\n",
              "       'AQUISIÇÃO DE TUBOS DE CONCRETO PARA UTILIZAÇÃO EM PONTES E BUEIROS EM ESTRADAS DO MUNICÍPIO.',\n",
              "       'Contratação de empresa de serviços de vigilância desarmada, a serem prestados junto à garagem da Secretaria Municipal de Desenvolvimento Urbano, Obras e Trânsito - SMODUTRAN - pelo período de 04 (quatro) meses.',\n",
              "       nan], dtype=object)"
            ]
          },
          "metadata": {
            "tags": []
          },
          "execution_count": 15
        }
      ]
    },
    {
      "cell_type": "code",
      "metadata": {
        "colab": {
          "base_uri": "https://localhost:8080/"
        },
        "id": "OmCh6d-suKR2",
        "outputId": "e63d61e6-8304-40ac-ab24-ae89a6dce22e"
      },
      "source": [
        "data['DS_OBJETO'].value_counts()"
      ],
      "execution_count": 16,
      "outputs": [
        {
          "output_type": "execute_result",
          "data": {
            "text/plain": [
              "...                                                                                                                                                                                                                                                                    171\n",
              "CONTRATAÇÃO                                                                                                                                                                                                                                                             26\n",
              "AQUISIÇÃO DE MEDICAMENTOS                                                                                                                                                                                                                                               24\n",
              "OUTROS SERVIÇOS (OUS)                                                                                                                                                                                                                                                   24\n",
              "AQUISIÇÃO                                                                                                                                                                                                                                                               22\n",
              "                                                                                                                                                                                                                                                                      ... \n",
              "Qualificação agentes municipais                                                                                                                                                                                                                                          1\n",
              "Registro de Preços, EXCLUSIVO PARA EMPRESAS BENEFICIÁRIAS DA LEI COMPLEMENTAR 123/2006 NOS CASOS DE AQUISIÇÃO DE CONDICIONADORES DE AR PARA OS ITENS 001 e 002 e GERAL PARA OS DEMAIS ITENS, para atender as diversas Secretarias do Município de Estância Velha/RS      1\n",
              "Aquisição de climatizador de ar.                                                                                                                                                                                                                                         1\n",
              "Aquisiçao de generos alimenticios para merenda escolar,com entrega de acordo com o cronograma da Secretaria de Educaçao,e alimentos para o CRAS JUAPY e Projeto Criança Feliz da Secretaria de Açao Social                                                               1\n",
              "Aquisição de materiais de cama e tapetes para EMEI Pedro Rigo                                                                                                                                                                                                            1\n",
              "Name: DS_OBJETO, Length: 15170, dtype: int64"
            ]
          },
          "metadata": {
            "tags": []
          },
          "execution_count": 16
        }
      ]
    },
    {
      "cell_type": "code",
      "metadata": {
        "colab": {
          "base_uri": "https://localhost:8080/"
        },
        "id": "EcwYlbhgui7d",
        "outputId": "95a6d60c-4ea8-4960-e19f-266e94689699"
      },
      "source": [
        "# now let's calculate the frequency for each category\n",
        "\n",
        "# code as in book:\n",
        "\n",
        "label_freq = data['DS_OBJETO'].value_counts() / len(data)\n",
        "\n",
        "# let's inspect the frequency of the labels\n",
        "label_freq"
      ],
      "execution_count": 17,
      "outputs": [
        {
          "output_type": "execute_result",
          "data": {
            "text/plain": [
              "...                                                                                                                                                                                                                                                                    0.010393\n",
              "CONTRATAÇÃO                                                                                                                                                                                                                                                            0.001580\n",
              "AQUISIÇÃO DE MEDICAMENTOS                                                                                                                                                                                                                                              0.001459\n",
              "OUTROS SERVIÇOS (OUS)                                                                                                                                                                                                                                                  0.001459\n",
              "AQUISIÇÃO                                                                                                                                                                                                                                                              0.001337\n",
              "                                                                                                                                                                                                                                                                         ...   \n",
              "Qualificação agentes municipais                                                                                                                                                                                                                                        0.000061\n",
              "Registro de Preços, EXCLUSIVO PARA EMPRESAS BENEFICIÁRIAS DA LEI COMPLEMENTAR 123/2006 NOS CASOS DE AQUISIÇÃO DE CONDICIONADORES DE AR PARA OS ITENS 001 e 002 e GERAL PARA OS DEMAIS ITENS, para atender as diversas Secretarias do Município de Estância Velha/RS    0.000061\n",
              "Aquisição de climatizador de ar.                                                                                                                                                                                                                                       0.000061\n",
              "Aquisiçao de generos alimenticios para merenda escolar,com entrega de acordo com o cronograma da Secretaria de Educaçao,e alimentos para o CRAS JUAPY e Projeto Criança Feliz da Secretaria de Açao Social                                                             0.000061\n",
              "Aquisição de materiais de cama e tapetes para EMEI Pedro Rigo                                                                                                                                                                                                          0.000061\n",
              "Name: DS_OBJETO, Length: 15170, dtype: float64"
            ]
          },
          "metadata": {
            "tags": []
          },
          "execution_count": 17
        }
      ]
    },
    {
      "cell_type": "code",
      "metadata": {
        "colab": {
          "base_uri": "https://localhost:8080/"
        },
        "id": "0LyY5TIuvgOb",
        "outputId": "0dda6373-181b-47b4-e8fc-e5bb187c1623"
      },
      "source": [
        "# first we calculate the total number of biddings in the dataset\n",
        "total_bidding = len(data)\n",
        "print('Total number of biddings {}'.format(total_bidding))\n",
        "\n",
        "# then we calculate label frequency\n",
        "# value_counts() counts the number of biddings per label\n",
        "# by dividing by total cars we obtain the frequency\n",
        "\n",
        "label_freq = data['DS_OBJETO'].value_counts() / total_bidding\n",
        "\n",
        "# let's inspect the frequency of the labels\n",
        "label_freq"
      ],
      "execution_count": 24,
      "outputs": [
        {
          "output_type": "stream",
          "text": [
            "Total number of biddings 16454\n"
          ],
          "name": "stdout"
        },
        {
          "output_type": "execute_result",
          "data": {
            "text/plain": [
              "...                                                                                                                                                                                                                                                                    0.010393\n",
              "CONTRATAÇÃO                                                                                                                                                                                                                                                            0.001580\n",
              "AQUISIÇÃO DE MEDICAMENTOS                                                                                                                                                                                                                                              0.001459\n",
              "OUTROS SERVIÇOS (OUS)                                                                                                                                                                                                                                                  0.001459\n",
              "AQUISIÇÃO                                                                                                                                                                                                                                                              0.001337\n",
              "                                                                                                                                                                                                                                                                         ...   \n",
              "Qualificação agentes municipais                                                                                                                                                                                                                                        0.000061\n",
              "Registro de Preços, EXCLUSIVO PARA EMPRESAS BENEFICIÁRIAS DA LEI COMPLEMENTAR 123/2006 NOS CASOS DE AQUISIÇÃO DE CONDICIONADORES DE AR PARA OS ITENS 001 e 002 e GERAL PARA OS DEMAIS ITENS, para atender as diversas Secretarias do Município de Estância Velha/RS    0.000061\n",
              "Aquisição de climatizador de ar.                                                                                                                                                                                                                                       0.000061\n",
              "Aquisiçao de generos alimenticios para merenda escolar,com entrega de acordo com o cronograma da Secretaria de Educaçao,e alimentos para o CRAS JUAPY e Projeto Criança Feliz da Secretaria de Açao Social                                                             0.000061\n",
              "Aquisição de materiais de cama e tapetes para EMEI Pedro Rigo                                                                                                                                                                                                          0.000061\n",
              "Name: DS_OBJETO, Length: 15170, dtype: float64"
            ]
          },
          "metadata": {
            "tags": []
          },
          "execution_count": 24
        }
      ]
    },
    {
      "cell_type": "code",
      "metadata": {
        "colab": {
          "base_uri": "https://localhost:8080/",
          "height": 538
        },
        "id": "P5Ss3z69y25p",
        "outputId": "238de17e-de2f-445d-9095-66d26e909568"
      },
      "source": [
        "data.describe().T"
      ],
      "execution_count": 26,
      "outputs": [
        {
          "output_type": "execute_result",
          "data": {
            "text/html": [
              "<div>\n",
              "<style scoped>\n",
              "    .dataframe tbody tr th:only-of-type {\n",
              "        vertical-align: middle;\n",
              "    }\n",
              "\n",
              "    .dataframe tbody tr th {\n",
              "        vertical-align: top;\n",
              "    }\n",
              "\n",
              "    .dataframe thead th {\n",
              "        text-align: right;\n",
              "    }\n",
              "</style>\n",
              "<table border=\"1\" class=\"dataframe\">\n",
              "  <thead>\n",
              "    <tr style=\"text-align: right;\">\n",
              "      <th></th>\n",
              "      <th>count</th>\n",
              "      <th>mean</th>\n",
              "      <th>std</th>\n",
              "      <th>min</th>\n",
              "      <th>25%</th>\n",
              "      <th>50%</th>\n",
              "      <th>75%</th>\n",
              "      <th>max</th>\n",
              "    </tr>\n",
              "  </thead>\n",
              "  <tbody>\n",
              "    <tr>\n",
              "      <th>CD_ORGAO</th>\n",
              "      <td>16454.0</td>\n",
              "      <td>6.080606e+04</td>\n",
              "      <td>1.409548e+04</td>\n",
              "      <td>4.010000e+04</td>\n",
              "      <td>4.910400e+04</td>\n",
              "      <td>5.750000e+04</td>\n",
              "      <td>7.040000e+04</td>\n",
              "      <td>8.835800e+04</td>\n",
              "    </tr>\n",
              "    <tr>\n",
              "      <th>NR_LICITACAO</th>\n",
              "      <td>16454.0</td>\n",
              "      <td>6.077550e+14</td>\n",
              "      <td>7.795864e+16</td>\n",
              "      <td>1.000000e+00</td>\n",
              "      <td>9.000000e+00</td>\n",
              "      <td>2.700000e+01</td>\n",
              "      <td>8.675000e+01</td>\n",
              "      <td>1.000000e+19</td>\n",
              "    </tr>\n",
              "    <tr>\n",
              "      <th>ANO_LICITACAO</th>\n",
              "      <td>16454.0</td>\n",
              "      <td>2.016000e+03</td>\n",
              "      <td>0.000000e+00</td>\n",
              "      <td>2.016000e+03</td>\n",
              "      <td>2.016000e+03</td>\n",
              "      <td>2.016000e+03</td>\n",
              "      <td>2.016000e+03</td>\n",
              "      <td>2.016000e+03</td>\n",
              "    </tr>\n",
              "    <tr>\n",
              "      <th>NR_COMISSAO</th>\n",
              "      <td>12389.0</td>\n",
              "      <td>7.721542e+05</td>\n",
              "      <td>1.634805e+07</td>\n",
              "      <td>1.000000e+00</td>\n",
              "      <td>4.200000e+01</td>\n",
              "      <td>3.510000e+02</td>\n",
              "      <td>5.774000e+03</td>\n",
              "      <td>7.310620e+08</td>\n",
              "    </tr>\n",
              "    <tr>\n",
              "      <th>ANO_COMISSAO</th>\n",
              "      <td>12389.0</td>\n",
              "      <td>2.015582e+03</td>\n",
              "      <td>1.268534e+00</td>\n",
              "      <td>2.006000e+03</td>\n",
              "      <td>2.015000e+03</td>\n",
              "      <td>2.016000e+03</td>\n",
              "      <td>2.016000e+03</td>\n",
              "      <td>2.019000e+03</td>\n",
              "    </tr>\n",
              "    <tr>\n",
              "      <th>ANO_PROCESSO</th>\n",
              "      <td>16454.0</td>\n",
              "      <td>2.014414e+03</td>\n",
              "      <td>5.583875e+01</td>\n",
              "      <td>0.000000e+00</td>\n",
              "      <td>2.016000e+03</td>\n",
              "      <td>2.016000e+03</td>\n",
              "      <td>2.016000e+03</td>\n",
              "      <td>2.019000e+03</td>\n",
              "    </tr>\n",
              "    <tr>\n",
              "      <th>ANO_LICITACAO_ORIGINAL</th>\n",
              "      <td>2503.0</td>\n",
              "      <td>4.831163e+01</td>\n",
              "      <td>3.083362e+02</td>\n",
              "      <td>0.000000e+00</td>\n",
              "      <td>0.000000e+00</td>\n",
              "      <td>0.000000e+00</td>\n",
              "      <td>0.000000e+00</td>\n",
              "      <td>2.016000e+03</td>\n",
              "    </tr>\n",
              "    <tr>\n",
              "      <th>PC_TAXA_RISCO</th>\n",
              "      <td>2642.0</td>\n",
              "      <td>0.000000e+00</td>\n",
              "      <td>0.000000e+00</td>\n",
              "      <td>0.000000e+00</td>\n",
              "      <td>0.000000e+00</td>\n",
              "      <td>0.000000e+00</td>\n",
              "      <td>0.000000e+00</td>\n",
              "      <td>0.000000e+00</td>\n",
              "    </tr>\n",
              "    <tr>\n",
              "      <th>CNPJ_ORGAO_GERENCIADOR</th>\n",
              "      <td>563.0</td>\n",
              "      <td>8.101624e+13</td>\n",
              "      <td>2.423301e+13</td>\n",
              "      <td>3.782570e+11</td>\n",
              "      <td>8.789099e+13</td>\n",
              "      <td>8.789099e+13</td>\n",
              "      <td>8.854412e+13</td>\n",
              "      <td>9.495529e+13</td>\n",
              "    </tr>\n",
              "    <tr>\n",
              "      <th>NR_ARTIGO</th>\n",
              "      <td>3267.0</td>\n",
              "      <td>1.478696e+01</td>\n",
              "      <td>1.186451e+01</td>\n",
              "      <td>0.000000e+00</td>\n",
              "      <td>0.000000e+00</td>\n",
              "      <td>2.400000e+01</td>\n",
              "      <td>2.400000e+01</td>\n",
              "      <td>9.500000e+01</td>\n",
              "    </tr>\n",
              "    <tr>\n",
              "      <th>VL_LICITACAO</th>\n",
              "      <td>15943.0</td>\n",
              "      <td>3.055382e+05</td>\n",
              "      <td>9.074505e+06</td>\n",
              "      <td>0.000000e+00</td>\n",
              "      <td>3.950000e+03</td>\n",
              "      <td>1.735720e+04</td>\n",
              "      <td>6.863139e+04</td>\n",
              "      <td>9.066496e+08</td>\n",
              "    </tr>\n",
              "    <tr>\n",
              "      <th>NR_DOCUMENTO_FORNECEDOR</th>\n",
              "      <td>3979.0</td>\n",
              "      <td>2.882783e+13</td>\n",
              "      <td>3.541424e+13</td>\n",
              "      <td>1.910000e+02</td>\n",
              "      <td>4.096738e+12</td>\n",
              "      <td>1.154350e+13</td>\n",
              "      <td>2.997904e+13</td>\n",
              "      <td>9.867471e+13</td>\n",
              "    </tr>\n",
              "    <tr>\n",
              "      <th>NR_DOCUMENTO_VENCEDOR</th>\n",
              "      <td>1727.0</td>\n",
              "      <td>2.474831e+13</td>\n",
              "      <td>3.083399e+13</td>\n",
              "      <td>3.193210e+08</td>\n",
              "      <td>6.015362e+12</td>\n",
              "      <td>1.142677e+13</td>\n",
              "      <td>2.168832e+13</td>\n",
              "      <td>9.811041e+13</td>\n",
              "    </tr>\n",
              "    <tr>\n",
              "      <th>VL_HOMOLOGADO</th>\n",
              "      <td>6971.0</td>\n",
              "      <td>2.410747e+05</td>\n",
              "      <td>5.791928e+06</td>\n",
              "      <td>0.000000e+00</td>\n",
              "      <td>0.000000e+00</td>\n",
              "      <td>1.582830e+04</td>\n",
              "      <td>6.806507e+04</td>\n",
              "      <td>4.630649e+08</td>\n",
              "    </tr>\n",
              "    <tr>\n",
              "      <th>PC_TX_ESTIMADA</th>\n",
              "      <td>0.0</td>\n",
              "      <td>NaN</td>\n",
              "      <td>NaN</td>\n",
              "      <td>NaN</td>\n",
              "      <td>NaN</td>\n",
              "      <td>NaN</td>\n",
              "      <td>NaN</td>\n",
              "      <td>NaN</td>\n",
              "    </tr>\n",
              "    <tr>\n",
              "      <th>PC_TX_HOMOLOGADA</th>\n",
              "      <td>0.0</td>\n",
              "      <td>NaN</td>\n",
              "      <td>NaN</td>\n",
              "      <td>NaN</td>\n",
              "      <td>NaN</td>\n",
              "      <td>NaN</td>\n",
              "      <td>NaN</td>\n",
              "      <td>NaN</td>\n",
              "    </tr>\n",
              "  </tbody>\n",
              "</table>\n",
              "</div>"
            ],
            "text/plain": [
              "                           count          mean           std           min  \\\n",
              "CD_ORGAO                 16454.0  6.080606e+04  1.409548e+04  4.010000e+04   \n",
              "NR_LICITACAO             16454.0  6.077550e+14  7.795864e+16  1.000000e+00   \n",
              "ANO_LICITACAO            16454.0  2.016000e+03  0.000000e+00  2.016000e+03   \n",
              "NR_COMISSAO              12389.0  7.721542e+05  1.634805e+07  1.000000e+00   \n",
              "ANO_COMISSAO             12389.0  2.015582e+03  1.268534e+00  2.006000e+03   \n",
              "ANO_PROCESSO             16454.0  2.014414e+03  5.583875e+01  0.000000e+00   \n",
              "ANO_LICITACAO_ORIGINAL    2503.0  4.831163e+01  3.083362e+02  0.000000e+00   \n",
              "PC_TAXA_RISCO             2642.0  0.000000e+00  0.000000e+00  0.000000e+00   \n",
              "CNPJ_ORGAO_GERENCIADOR     563.0  8.101624e+13  2.423301e+13  3.782570e+11   \n",
              "NR_ARTIGO                 3267.0  1.478696e+01  1.186451e+01  0.000000e+00   \n",
              "VL_LICITACAO             15943.0  3.055382e+05  9.074505e+06  0.000000e+00   \n",
              "NR_DOCUMENTO_FORNECEDOR   3979.0  2.882783e+13  3.541424e+13  1.910000e+02   \n",
              "NR_DOCUMENTO_VENCEDOR     1727.0  2.474831e+13  3.083399e+13  3.193210e+08   \n",
              "VL_HOMOLOGADO             6971.0  2.410747e+05  5.791928e+06  0.000000e+00   \n",
              "PC_TX_ESTIMADA               0.0           NaN           NaN           NaN   \n",
              "PC_TX_HOMOLOGADA             0.0           NaN           NaN           NaN   \n",
              "\n",
              "                                  25%           50%           75%  \\\n",
              "CD_ORGAO                 4.910400e+04  5.750000e+04  7.040000e+04   \n",
              "NR_LICITACAO             9.000000e+00  2.700000e+01  8.675000e+01   \n",
              "ANO_LICITACAO            2.016000e+03  2.016000e+03  2.016000e+03   \n",
              "NR_COMISSAO              4.200000e+01  3.510000e+02  5.774000e+03   \n",
              "ANO_COMISSAO             2.015000e+03  2.016000e+03  2.016000e+03   \n",
              "ANO_PROCESSO             2.016000e+03  2.016000e+03  2.016000e+03   \n",
              "ANO_LICITACAO_ORIGINAL   0.000000e+00  0.000000e+00  0.000000e+00   \n",
              "PC_TAXA_RISCO            0.000000e+00  0.000000e+00  0.000000e+00   \n",
              "CNPJ_ORGAO_GERENCIADOR   8.789099e+13  8.789099e+13  8.854412e+13   \n",
              "NR_ARTIGO                0.000000e+00  2.400000e+01  2.400000e+01   \n",
              "VL_LICITACAO             3.950000e+03  1.735720e+04  6.863139e+04   \n",
              "NR_DOCUMENTO_FORNECEDOR  4.096738e+12  1.154350e+13  2.997904e+13   \n",
              "NR_DOCUMENTO_VENCEDOR    6.015362e+12  1.142677e+13  2.168832e+13   \n",
              "VL_HOMOLOGADO            0.000000e+00  1.582830e+04  6.806507e+04   \n",
              "PC_TX_ESTIMADA                    NaN           NaN           NaN   \n",
              "PC_TX_HOMOLOGADA                  NaN           NaN           NaN   \n",
              "\n",
              "                                  max  \n",
              "CD_ORGAO                 8.835800e+04  \n",
              "NR_LICITACAO             1.000000e+19  \n",
              "ANO_LICITACAO            2.016000e+03  \n",
              "NR_COMISSAO              7.310620e+08  \n",
              "ANO_COMISSAO             2.019000e+03  \n",
              "ANO_PROCESSO             2.019000e+03  \n",
              "ANO_LICITACAO_ORIGINAL   2.016000e+03  \n",
              "PC_TAXA_RISCO            0.000000e+00  \n",
              "CNPJ_ORGAO_GERENCIADOR   9.495529e+13  \n",
              "NR_ARTIGO                9.500000e+01  \n",
              "VL_LICITACAO             9.066496e+08  \n",
              "NR_DOCUMENTO_FORNECEDOR  9.867471e+13  \n",
              "NR_DOCUMENTO_VENCEDOR    9.811041e+13  \n",
              "VL_HOMOLOGADO            4.630649e+08  \n",
              "PC_TX_ESTIMADA                    NaN  \n",
              "PC_TX_HOMOLOGADA                  NaN  "
            ]
          },
          "metadata": {
            "tags": []
          },
          "execution_count": 26
        }
      ]
    },
    {
      "cell_type": "code",
      "metadata": {
        "colab": {
          "base_uri": "https://localhost:8080/"
        },
        "id": "mFUsoELrz_7D",
        "outputId": "a65c9f3e-4748-4c52-e524-90c2528aba81"
      },
      "source": [
        "data.shape"
      ],
      "execution_count": 28,
      "outputs": [
        {
          "output_type": "execute_result",
          "data": {
            "text/plain": [
              "(16454, 61)"
            ]
          },
          "metadata": {
            "tags": []
          },
          "execution_count": 28
        }
      ]
    },
    {
      "cell_type": "code",
      "metadata": {
        "colab": {
          "base_uri": "https://localhost:8080/",
          "height": 1000
        },
        "id": "YddDb9nmzxU8",
        "outputId": "a3090789-3d75-4ba7-d02c-47767c4bcc6d"
      },
      "source": [
        "data.hist(bins=30, figsize=(30,30), density=True)\n",
        "plt.show()"
      ],
      "execution_count": 31,
      "outputs": [
        {
          "output_type": "stream",
          "text": [
            "/usr/local/lib/python3.7/dist-packages/numpy/lib/histograms.py:905: RuntimeWarning: invalid value encountered in true_divide\n",
            "  return n/db/n.sum(), bin_edges\n"
          ],
          "name": "stderr"
        },
        {
          "output_type": "display_data",
          "data": {
            "image/png": "[encoded data removed]",
            "text/plain": [
              "<Figure size 2160x2160 with 16 Axes>"
            ]
          },
          "metadata": {
            "tags": [],
            "needs_background": "light"
          }
        }
      ]
    },
    {
      "cell_type": "code",
      "metadata": {
        "colab": {
          "base_uri": "https://localhost:8080/",
          "height": 394
        },
        "id": "vGPA786g0lFO",
        "outputId": "2aff412c-8e76-4ff5-a00a-d8410778beea"
      },
      "source": [
        "#Outlier Detection\n",
        "plt.figure(figsize=(3,6))\n",
        "sns.boxplot(y=data['NR_ARTIGO'])\n",
        "plt.title('Boxplot')"
      ],
      "execution_count": 32,
      "outputs": [
        {
          "output_type": "execute_result",
          "data": {
            "text/plain": [
              "Text(0.5, 1.0, 'Boxplot')"
            ]
          },
          "metadata": {
            "tags": []
          },
          "execution_count": 32
        },
        {
          "output_type": "display_data",
          "data": {
            "image/png": "[encoded data removed]",
            "text/plain": [
              "<Figure size 216x432 with 1 Axes>"
            ]
          },
          "metadata": {
            "tags": [],
            "needs_background": "light"
          }
        }
      ]
    },
    {
      "cell_type": "code",
      "metadata": {
        "colab": {
          "base_uri": "https://localhost:8080/",
          "height": 394
        },
        "id": "rqc0lUEE1iWa",
        "outputId": "f7cbaddc-6769-4515-810e-a6acdbfb7a2f"
      },
      "source": [
        "#Outlier Detection\n",
        "plt.figure(figsize=(3,6))\n",
        "sns.boxplot(y=data['NR_DOCUMENTO_FORNECEDOR'])\n",
        "plt.title('Boxplot')"
      ],
      "execution_count": 34,
      "outputs": [
        {
          "output_type": "execute_result",
          "data": {
            "text/plain": [
              "Text(0.5, 1.0, 'Boxplot')"
            ]
          },
          "metadata": {
            "tags": []
          },
          "execution_count": 34
        },
        {
          "output_type": "display_data",
          "data": {
            "image/png": "[encoded data removed]",
            "text/plain": [
              "<Figure size 216x432 with 1 Axes>"
            ]
          },
          "metadata": {
            "tags": [],
            "needs_background": "light"
          }
        }
      ]
    },
    {
      "cell_type": "code",
      "metadata": {
        "id": "hUMgfNsr1vah"
      },
      "source": [
        ""
      ],
      "execution_count": null,
      "outputs": []
    },
    {
      "cell_type": "code",
      "metadata": {
        "colab": {
          "base_uri": "https://localhost:8080/",
          "height": 394
        },
        "id": "OMtkHQ3t16Ln",
        "outputId": "c2e0c870-b8dd-4988-da73-8a2fe4669f3c"
      },
      "source": [
        "#Outlier Detection\n",
        "plt.figure(figsize=(3,6))\n",
        "sns.boxplot(y=data['CNPJ_ORGAO_GERENCIADOR'])\n",
        "plt.title('Boxplot')"
      ],
      "execution_count": 35,
      "outputs": [
        {
          "output_type": "execute_result",
          "data": {
            "text/plain": [
              "Text(0.5, 1.0, 'Boxplot')"
            ]
          },
          "metadata": {
            "tags": []
          },
          "execution_count": 35
        },
        {
          "output_type": "display_data",
          "data": {
            "image/png": "[encoded data removed]",
            "text/plain": [
              "<Figure size 216x432 with 1 Axes>"
            ]
          },
          "metadata": {
            "tags": [],
            "needs_background": "light"
          }
        }
      ]
    },
    {
      "cell_type": "code",
      "metadata": {
        "colab": {
          "base_uri": "https://localhost:8080/",
          "height": 394
        },
        "id": "QgsS1VD71wHI",
        "outputId": "2aff412c-8e76-4ff5-a00a-d8410778beea"
      },
      "source": [
        "#Outlier Detection\n",
        "plt.figure(figsize=(3,6))\n",
        "sns.boxplot(y=data['NR_ARTIGO'])\n",
        "plt.title('Boxplot')"
      ],
      "execution_count": null,
      "outputs": [
        {
          "output_type": "execute_result",
          "data": {
            "text/plain": [
              "Text(0.5, 1.0, 'Boxplot')"
            ]
          },
          "metadata": {
            "tags": []
          },
          "execution_count": 32
        },
        {
          "output_type": "display_data",
          "data": {
            "image/png": "[encoded data removed]",
            "text/plain": [
              "<Figure size 216x432 with 1 Axes>"
            ]
          },
          "metadata": {
            "tags": [],
            "needs_background": "light"
          }
        }
      ]
    },
    {
      "cell_type": "code",
      "metadata": {
        "id": "CDIfVPR22UPI"
      },
      "source": [
        "# not let's find in a dataframe those outliers:\n",
        "\n",
        "# the function finds the upper and lower boundaries\n",
        "# using the IQR proximity rule\n",
        "\n",
        "\n",
        "\n",
        "def find_boundaries(data, variable):\n",
        "\n",
        "    # distance passed as an argument, gives us the option to\n",
        "    # estimate 1.5 times or 3 times the IQR to calculate\n",
        "    # the boundaries.\n",
        "\n",
        "    IQR = data[variable].quantile(0.75) - data[variable].quantile(0.25)\n",
        "\n",
        "    lower_boundary = data[variable].quantile(0.25) - (IQR * 1.5)\n",
        "    upper_boundary = data[variable].quantile(0.75) + (IQR * 1.5)\n",
        "\n",
        "    return upper_boundary, lower_boundary"
      ],
      "execution_count": 38,
      "outputs": []
    },
    {
      "cell_type": "code",
      "metadata": {
        "colab": {
          "base_uri": "https://localhost:8080/"
        },
        "id": "nRrH6Os22yqz",
        "outputId": "e511db63-f905-455c-d463-a011530e565d"
      },
      "source": [
        "# we find the boudaries for the variable RM\n",
        "\n",
        "upper_boundary, lower_boundary = find_boundaries(data, 'NR_DOCUMENTO_FORNECEDOR')\n",
        "upper_boundary, lower_boundary"
      ],
      "execution_count": 39,
      "outputs": [
        {
          "output_type": "execute_result",
          "data": {
            "text/plain": [
              "(68802483067740.0, -34726709040396.0)"
            ]
          },
          "metadata": {
            "tags": []
          },
          "execution_count": 39
        }
      ]
    },
    {
      "cell_type": "code",
      "metadata": {
        "id": "1-U05ohV3U3H"
      },
      "source": [
        "# not let's find in a dataframe those outliers:\n",
        "\n",
        "# the function finds the upper and lower boundaries\n",
        "# using the IQR proximity rule\n",
        "\n",
        "# passing the distance as a function argument\n",
        "# to allow for versatility\n",
        "\n",
        "def find_boundaries(data, variable, distance):\n",
        "\n",
        "    # distance passed as an argument, gives us the option to\n",
        "    # estimate 1.5 times or 3 times the IQR to calculate\n",
        "    # the boundaries.\n",
        "\n",
        "    IQR = data[variable].quantile(0.75) - data[variable].quantile(0.25)\n",
        "\n",
        "    lower_boundary = data[variable].quantile(0.25) - (IQR * distance)\n",
        "    upper_boundary = data[variable].quantile(0.75) + (IQR * distance)\n",
        "\n",
        "    return upper_boundary, lower_boundary"
      ],
      "execution_count": 41,
      "outputs": []
    },
    {
      "cell_type": "code",
      "metadata": {
        "colab": {
          "base_uri": "https://localhost:8080/"
        },
        "id": "m6kSGRsM3oEQ",
        "outputId": "04de6e52-1b18-4dfe-ebfc-149d9c73092f"
      },
      "source": [
        "upper_boundary, lower_boundary = find_boundaries(data, 'NR_DOCUMENTO_FORNECEDOR', 1.5)\n",
        "upper_boundary, lower_boundary"
      ],
      "execution_count": 44,
      "outputs": [
        {
          "output_type": "execute_result",
          "data": {
            "text/plain": [
              "(68802483067740.0, -34726709040396.0)"
            ]
          },
          "metadata": {
            "tags": []
          },
          "execution_count": 44
        }
      ]
    },
    {
      "cell_type": "code",
      "metadata": {
        "id": "93X97-bn3_nR"
      },
      "source": [
        "# let's flag the outliers in the data set\n",
        "\n",
        "outliers = np.where(data['NR_DOCUMENTO_FORNECEDOR'] > upper_boundary, True,\n",
        "                    np.where(data['NR_DOCUMENTO_FORNECEDOR'] < lower_boundary, True, False))"
      ],
      "execution_count": 46,
      "outputs": []
    },
    {
      "cell_type": "code",
      "metadata": {
        "colab": {
          "base_uri": "https://localhost:8080/"
        },
        "id": "CTCV7p844Xr8",
        "outputId": "57103eab-178c-4417-cf26-b6e24f36513a"
      },
      "source": [
        "# how many outliers did we find?\n",
        "outliers.sum()"
      ],
      "execution_count": 47,
      "outputs": [
        {
          "output_type": "execute_result",
          "data": {
            "text/plain": [
              "945"
            ]
          },
          "metadata": {
            "tags": []
          },
          "execution_count": 47
        }
      ]
    },
    {
      "cell_type": "code",
      "metadata": {
        "colab": {
          "base_uri": "https://localhost:8080/",
          "height": 1000
        },
        "id": "jKDQzYtB8HdT",
        "outputId": "05bf0238-e280-49a1-ca25-6f88a1670d0b"
      },
      "source": [
        "#Creating  correlation matrix\n",
        "corr_mat = data.corr().abs()\n",
        "plt.figure(figsize = (15, 15))\n",
        "sns.set(font_scale=1)\n",
        "sns.heatmap(corr_mat, annot = False, cmap=\"YlGnBu\")\n",
        "plt.show()"
      ],
      "execution_count": 51,
      "outputs": [
        {
          "output_type": "display_data",
          "data": {
            "image/png": "[encoded data removed]",
            "text/plain": [
              "<Figure size 1080x1080 with 2 Axes>"
            ]
          },
          "metadata": {
            "tags": []
          }
        }
      ]
    },
    {
      "cell_type": "code",
      "metadata": {
        "colab": {
          "base_uri": "https://localhost:8080/"
        },
        "id": "FJTXBlp09bw3",
        "outputId": "fc52473e-c395-470e-a43b-56bfee263991"
      },
      "source": [
        "# let's inspect the percentage of missing values in each variable\n",
        "\n",
        "data.isnull().mean().sort_values(ascending=True)"
      ],
      "execution_count": 52,
      "outputs": [
        {
          "output_type": "execute_result",
          "data": {
            "text/plain": [
              "CD_ORGAO                    0.000000\n",
              "TP_CARACTERISTICA_OBJETO    0.000000\n",
              "TP_NIVEL_JULGAMENTO         0.000000\n",
              "TP_LICITACAO                0.000000\n",
              "CD_TIPO_FASE_ATUAL          0.000000\n",
              "                              ...   \n",
              "DT_AUTORIZACAO_ADESAO       0.997204\n",
              "TP_DISPUTA                  0.998663\n",
              "TP_PREQUALIFICACAO          0.998724\n",
              "PC_TX_HOMOLOGADA            1.000000\n",
              "PC_TX_ESTIMADA              1.000000\n",
              "Length: 61, dtype: float64"
            ]
          },
          "metadata": {
            "tags": []
          },
          "execution_count": 52
        }
      ]
    },
    {
      "cell_type": "code",
      "metadata": {
        "id": "SZ9ifXY_9oRx"
      },
      "source": [
        "# create a complete case data set\n",
        "\n",
        "data_cca = data.dropna()"
      ],
      "execution_count": 53,
      "outputs": []
    },
    {
      "cell_type": "code",
      "metadata": {
        "colab": {
          "base_uri": "https://localhost:8080/"
        },
        "id": "-cgxU5nI9x0u",
        "outputId": "222b6fd9-8f13-4044-c1c9-774917ce0aa5"
      },
      "source": [
        "print('Number of total observations: {}'.format(len(data)))\n",
        "print('Number of observations with complete cases: {}'.format(len(data_cca)))"
      ],
      "execution_count": 54,
      "outputs": [
        {
          "output_type": "stream",
          "text": [
            "Number of total observations: 16454\n",
            "Number of observations with complete cases: 0\n"
          ],
          "name": "stdout"
        }
      ]
    },
    {
      "cell_type": "code",
      "metadata": {
        "id": "Sih761SO_wom"
      },
      "source": [
        "#Encoding Categorical features"
      ],
      "execution_count": 55,
      "outputs": []
    },
    {
      "cell_type": "code",
      "metadata": {
        "id": "njJHT1AXGGwV"
      },
      "source": [
        "import numpy as np # linear algebra\n",
        "import pandas as pd # data processing, CSV file I/O (e.g. pd.read_csv)\n",
        "import matplotlib.pyplot as plt # for data visualization\n",
        "import seaborn as sns\n",
        "from sklearn import preprocessing\n",
        "from sklearn.preprocessing import MinMaxScaler\n",
        "sns.set(style='darkgrid')"
      ],
      "execution_count": 72,
      "outputs": []
    },
    {
      "cell_type": "code",
      "metadata": {
        "id": "7qru38y6GN9W"
      },
      "source": [
        "train_data = pd.read_csv(\"licitacao.csv\")"
      ],
      "execution_count": 73,
      "outputs": []
    },
    {
      "cell_type": "code",
      "metadata": {
        "colab": {
          "base_uri": "https://localhost:8080/",
          "height": 934
        },
        "id": "JN3OeRIPGVUt",
        "outputId": "f4e1722c-7269-4b39-9b79-889adb306116"
      },
      "source": [
        "train_data"
      ],
      "execution_count": 74,
      "outputs": [
        {
          "output_type": "execute_result",
          "data": {
            "text/html": [
              "<div>\n",
              "<style scoped>\n",
              "    .dataframe tbody tr th:only-of-type {\n",
              "        vertical-align: middle;\n",
              "    }\n",
              "\n",
              "    .dataframe tbody tr th {\n",
              "        vertical-align: top;\n",
              "    }\n",
              "\n",
              "    .dataframe thead th {\n",
              "        text-align: right;\n",
              "    }\n",
              "</style>\n",
              "<table border=\"1\" class=\"dataframe\">\n",
              "  <thead>\n",
              "    <tr style=\"text-align: right;\">\n",
              "      <th></th>\n",
              "      <th>CD_ORGAO</th>\n",
              "      <th>NM_ORGAO</th>\n",
              "      <th>NR_LICITACAO</th>\n",
              "      <th>ANO_LICITACAO</th>\n",
              "      <th>CD_TIPO_MODALIDADE</th>\n",
              "      <th>NR_COMISSAO</th>\n",
              "      <th>ANO_COMISSAO</th>\n",
              "      <th>TP_COMISSAO</th>\n",
              "      <th>NR_PROCESSO</th>\n",
              "      <th>ANO_PROCESSO</th>\n",
              "      <th>TP_OBJETO</th>\n",
              "      <th>CD_TIPO_FASE_ATUAL</th>\n",
              "      <th>TP_LICITACAO</th>\n",
              "      <th>TP_NIVEL_JULGAMENTO</th>\n",
              "      <th>DT_AUTORIZACAO_ADESAO</th>\n",
              "      <th>TP_CARACTERISTICA_OBJETO</th>\n",
              "      <th>TP_NATUREZA</th>\n",
              "      <th>TP_REGIME_EXECUCAO</th>\n",
              "      <th>BL_PERMITE_SUBCONTRATACAO</th>\n",
              "      <th>TP_BENEFICIO_MICRO_EPP</th>\n",
              "      <th>TP_FORNECIMENTO</th>\n",
              "      <th>TP_ATUACAO_REGISTRO</th>\n",
              "      <th>NR_LICITACAO_ORIGINAL</th>\n",
              "      <th>ANO_LICITACAO_ORIGINAL</th>\n",
              "      <th>NR_ATA_REGISTRO_PRECO</th>\n",
              "      <th>DT_ATA_REGISTRO_PRECO</th>\n",
              "      <th>PC_TAXA_RISCO</th>\n",
              "      <th>TP_EXECUCAO</th>\n",
              "      <th>TP_DISPUTA</th>\n",
              "      <th>TP_PREQUALIFICACAO</th>\n",
              "      <th>BL_INVERSAO_FASES</th>\n",
              "      <th>TP_RESULTADO_GLOBAL</th>\n",
              "      <th>CNPJ_ORGAO_GERENCIADOR</th>\n",
              "      <th>NM_ORGAO_GERENCIADOR</th>\n",
              "      <th>DS_OBJETO</th>\n",
              "      <th>CD_TIPO_FUNDAMENTACAO</th>\n",
              "      <th>NR_ARTIGO</th>\n",
              "      <th>DS_INCISO</th>\n",
              "      <th>DS_LEI</th>\n",
              "      <th>DT_INICIO_INSCR_CRED</th>\n",
              "      <th>DT_FIM_INSCR_CRED</th>\n",
              "      <th>DT_INICIO_VIGEN_CRED</th>\n",
              "      <th>DT_FIM_VIGEN_CRED</th>\n",
              "      <th>VL_LICITACAO</th>\n",
              "      <th>BL_ORCAMENTO_SIGILOSO</th>\n",
              "      <th>BL_RECEBE_INSCRICAO_PER_VIG</th>\n",
              "      <th>BL_PERMITE_CONSORCIO</th>\n",
              "      <th>DT_ABERTURA</th>\n",
              "      <th>DT_HOMOLOGACAO</th>\n",
              "      <th>DT_ADJUDICACAO</th>\n",
              "      <th>BL_LICIT_PROPRIA_ORGAO</th>\n",
              "      <th>TP_DOCUMENTO_FORNECEDOR</th>\n",
              "      <th>NR_DOCUMENTO_FORNECEDOR</th>\n",
              "      <th>TP_DOCUMENTO_VENCEDOR</th>\n",
              "      <th>NR_DOCUMENTO_VENCEDOR</th>\n",
              "      <th>VL_HOMOLOGADO</th>\n",
              "      <th>BL_GERA_DESPESA</th>\n",
              "      <th>DS_OBSERVACAO</th>\n",
              "      <th>PC_TX_ESTIMADA</th>\n",
              "      <th>PC_TX_HOMOLOGADA</th>\n",
              "      <th>BL_COMPARTILHADA</th>\n",
              "    </tr>\n",
              "  </thead>\n",
              "  <tbody>\n",
              "    <tr>\n",
              "      <th>0</th>\n",
              "      <td>84100</td>\n",
              "      <td>PM DE ESPERANÇA DO SUL</td>\n",
              "      <td>1.0</td>\n",
              "      <td>2016</td>\n",
              "      <td>CNV</td>\n",
              "      <td>12.0</td>\n",
              "      <td>2016.0</td>\n",
              "      <td>P</td>\n",
              "      <td>001</td>\n",
              "      <td>2016</td>\n",
              "      <td>OUS</td>\n",
              "      <td>ADH</td>\n",
              "      <td>MPR</td>\n",
              "      <td>G</td>\n",
              "      <td>NaN</td>\n",
              "      <td>IU</td>\n",
              "      <td>N</td>\n",
              "      <td>NaN</td>\n",
              "      <td>N</td>\n",
              "      <td>N</td>\n",
              "      <td>NaN</td>\n",
              "      <td>NaN</td>\n",
              "      <td>NaN</td>\n",
              "      <td>NaN</td>\n",
              "      <td>NaN</td>\n",
              "      <td>NaN</td>\n",
              "      <td>NaN</td>\n",
              "      <td>NaN</td>\n",
              "      <td>NaN</td>\n",
              "      <td>NaN</td>\n",
              "      <td>N</td>\n",
              "      <td>A</td>\n",
              "      <td>NaN</td>\n",
              "      <td>NaN</td>\n",
              "      <td>Contratação de arbitragem dos jogos do 2º camp...</td>\n",
              "      <td>NaN</td>\n",
              "      <td>NaN</td>\n",
              "      <td>NaN</td>\n",
              "      <td>NaN</td>\n",
              "      <td>NaN</td>\n",
              "      <td>NaN</td>\n",
              "      <td>NaN</td>\n",
              "      <td>NaN</td>\n",
              "      <td>7000.00</td>\n",
              "      <td>NaN</td>\n",
              "      <td>NaN</td>\n",
              "      <td>N</td>\n",
              "      <td>2016-01-12</td>\n",
              "      <td>2016-01-19</td>\n",
              "      <td>2016-01-19</td>\n",
              "      <td>S</td>\n",
              "      <td>NaN</td>\n",
              "      <td>NaN</td>\n",
              "      <td>J</td>\n",
              "      <td>6.233397e+12</td>\n",
              "      <td>6420.0</td>\n",
              "      <td>S</td>\n",
              "      <td>NaN</td>\n",
              "      <td>NaN</td>\n",
              "      <td>NaN</td>\n",
              "      <td>N</td>\n",
              "    </tr>\n",
              "    <tr>\n",
              "      <th>1</th>\n",
              "      <td>84100</td>\n",
              "      <td>PM DE ESPERANÇA DO SUL</td>\n",
              "      <td>4.0</td>\n",
              "      <td>2016</td>\n",
              "      <td>CNV</td>\n",
              "      <td>12.0</td>\n",
              "      <td>2016.0</td>\n",
              "      <td>P</td>\n",
              "      <td>003</td>\n",
              "      <td>2016</td>\n",
              "      <td>COM</td>\n",
              "      <td>ADH</td>\n",
              "      <td>MPR</td>\n",
              "      <td>I</td>\n",
              "      <td>NaN</td>\n",
              "      <td>IT</td>\n",
              "      <td>N</td>\n",
              "      <td>NaN</td>\n",
              "      <td>N</td>\n",
              "      <td>N</td>\n",
              "      <td>P</td>\n",
              "      <td>NaN</td>\n",
              "      <td>NaN</td>\n",
              "      <td>NaN</td>\n",
              "      <td>NaN</td>\n",
              "      <td>NaN</td>\n",
              "      <td>NaN</td>\n",
              "      <td>NaN</td>\n",
              "      <td>NaN</td>\n",
              "      <td>NaN</td>\n",
              "      <td>N</td>\n",
              "      <td>NaN</td>\n",
              "      <td>NaN</td>\n",
              "      <td>NaN</td>\n",
              "      <td>Aquisição de merenda escolar</td>\n",
              "      <td>NaN</td>\n",
              "      <td>NaN</td>\n",
              "      <td>NaN</td>\n",
              "      <td>NaN</td>\n",
              "      <td>NaN</td>\n",
              "      <td>NaN</td>\n",
              "      <td>NaN</td>\n",
              "      <td>NaN</td>\n",
              "      <td>11216.50</td>\n",
              "      <td>NaN</td>\n",
              "      <td>NaN</td>\n",
              "      <td>N</td>\n",
              "      <td>2016-01-22</td>\n",
              "      <td>2016-01-29</td>\n",
              "      <td>2016-01-29</td>\n",
              "      <td>S</td>\n",
              "      <td>NaN</td>\n",
              "      <td>NaN</td>\n",
              "      <td>NaN</td>\n",
              "      <td>NaN</td>\n",
              "      <td>NaN</td>\n",
              "      <td>S</td>\n",
              "      <td>NaN</td>\n",
              "      <td>NaN</td>\n",
              "      <td>NaN</td>\n",
              "      <td>N</td>\n",
              "    </tr>\n",
              "    <tr>\n",
              "      <th>2</th>\n",
              "      <td>82701</td>\n",
              "      <td>CM DE XANGRI-LÁ</td>\n",
              "      <td>1.0</td>\n",
              "      <td>2016</td>\n",
              "      <td>PRP</td>\n",
              "      <td>12.0</td>\n",
              "      <td>2016.0</td>\n",
              "      <td>G</td>\n",
              "      <td>01</td>\n",
              "      <td>2016</td>\n",
              "      <td>COM</td>\n",
              "      <td>ADH</td>\n",
              "      <td>MPR</td>\n",
              "      <td>I</td>\n",
              "      <td>NaN</td>\n",
              "      <td>IT</td>\n",
              "      <td>N</td>\n",
              "      <td>NaN</td>\n",
              "      <td>N</td>\n",
              "      <td>N</td>\n",
              "      <td>I</td>\n",
              "      <td>NaN</td>\n",
              "      <td>NaN</td>\n",
              "      <td>NaN</td>\n",
              "      <td>NaN</td>\n",
              "      <td>NaN</td>\n",
              "      <td>NaN</td>\n",
              "      <td>NaN</td>\n",
              "      <td>NaN</td>\n",
              "      <td>NaN</td>\n",
              "      <td>N</td>\n",
              "      <td>NaN</td>\n",
              "      <td>NaN</td>\n",
              "      <td>NaN</td>\n",
              "      <td>AQUISIÇÃO DE PROTOCOLADORA E FRAGMENTADORA DE ...</td>\n",
              "      <td>NaN</td>\n",
              "      <td>NaN</td>\n",
              "      <td>NaN</td>\n",
              "      <td>NaN</td>\n",
              "      <td>NaN</td>\n",
              "      <td>NaN</td>\n",
              "      <td>NaN</td>\n",
              "      <td>NaN</td>\n",
              "      <td>NaN</td>\n",
              "      <td>S</td>\n",
              "      <td>NaN</td>\n",
              "      <td>N</td>\n",
              "      <td>2016-01-26</td>\n",
              "      <td>2016-02-01</td>\n",
              "      <td>2016-02-01</td>\n",
              "      <td>S</td>\n",
              "      <td>NaN</td>\n",
              "      <td>NaN</td>\n",
              "      <td>NaN</td>\n",
              "      <td>NaN</td>\n",
              "      <td>NaN</td>\n",
              "      <td>S</td>\n",
              "      <td>NaN</td>\n",
              "      <td>NaN</td>\n",
              "      <td>NaN</td>\n",
              "      <td>N</td>\n",
              "    </tr>\n",
              "    <tr>\n",
              "      <th>3</th>\n",
              "      <td>84100</td>\n",
              "      <td>PM DE ESPERANÇA DO SUL</td>\n",
              "      <td>6.0</td>\n",
              "      <td>2016</td>\n",
              "      <td>CNV</td>\n",
              "      <td>12.0</td>\n",
              "      <td>2016.0</td>\n",
              "      <td>P</td>\n",
              "      <td>005</td>\n",
              "      <td>2016</td>\n",
              "      <td>COM</td>\n",
              "      <td>ADH</td>\n",
              "      <td>MPR</td>\n",
              "      <td>I</td>\n",
              "      <td>NaN</td>\n",
              "      <td>IT</td>\n",
              "      <td>N</td>\n",
              "      <td>NaN</td>\n",
              "      <td>N</td>\n",
              "      <td>N</td>\n",
              "      <td>I</td>\n",
              "      <td>NaN</td>\n",
              "      <td>NaN</td>\n",
              "      <td>NaN</td>\n",
              "      <td>NaN</td>\n",
              "      <td>NaN</td>\n",
              "      <td>NaN</td>\n",
              "      <td>NaN</td>\n",
              "      <td>NaN</td>\n",
              "      <td>NaN</td>\n",
              "      <td>N</td>\n",
              "      <td>NaN</td>\n",
              "      <td>NaN</td>\n",
              "      <td>NaN</td>\n",
              "      <td>Aquisição de materiais de limpeza para as dive...</td>\n",
              "      <td>NaN</td>\n",
              "      <td>NaN</td>\n",
              "      <td>NaN</td>\n",
              "      <td>NaN</td>\n",
              "      <td>NaN</td>\n",
              "      <td>NaN</td>\n",
              "      <td>NaN</td>\n",
              "      <td>NaN</td>\n",
              "      <td>59810.60</td>\n",
              "      <td>NaN</td>\n",
              "      <td>NaN</td>\n",
              "      <td>N</td>\n",
              "      <td>2016-02-02</td>\n",
              "      <td>2016-02-11</td>\n",
              "      <td>2016-02-11</td>\n",
              "      <td>S</td>\n",
              "      <td>NaN</td>\n",
              "      <td>NaN</td>\n",
              "      <td>NaN</td>\n",
              "      <td>NaN</td>\n",
              "      <td>NaN</td>\n",
              "      <td>S</td>\n",
              "      <td>NaN</td>\n",
              "      <td>NaN</td>\n",
              "      <td>NaN</td>\n",
              "      <td>N</td>\n",
              "    </tr>\n",
              "    <tr>\n",
              "      <th>4</th>\n",
              "      <td>63900</td>\n",
              "      <td>PM DE COTIPORÃ</td>\n",
              "      <td>36.0</td>\n",
              "      <td>2016</td>\n",
              "      <td>PRD</td>\n",
              "      <td>NaN</td>\n",
              "      <td>NaN</td>\n",
              "      <td>NaN</td>\n",
              "      <td>344</td>\n",
              "      <td>2016</td>\n",
              "      <td>CSE</td>\n",
              "      <td>PUB</td>\n",
              "      <td>NSA</td>\n",
              "      <td>G</td>\n",
              "      <td>NaN</td>\n",
              "      <td>IT</td>\n",
              "      <td>N</td>\n",
              "      <td>NaN</td>\n",
              "      <td>NaN</td>\n",
              "      <td>N</td>\n",
              "      <td>I</td>\n",
              "      <td>NaN</td>\n",
              "      <td>NaN</td>\n",
              "      <td>NaN</td>\n",
              "      <td>NaN</td>\n",
              "      <td>NaN</td>\n",
              "      <td>NaN</td>\n",
              "      <td>NaN</td>\n",
              "      <td>NaN</td>\n",
              "      <td>NaN</td>\n",
              "      <td>N</td>\n",
              "      <td>NaN</td>\n",
              "      <td>NaN</td>\n",
              "      <td>NaN</td>\n",
              "      <td>CONTRATAÇÃO DE EMPRESA PARA FORNECIMENTO E INS...</td>\n",
              "      <td>OUTD</td>\n",
              "      <td>24.0</td>\n",
              "      <td>II</td>\n",
              "      <td>8666/93</td>\n",
              "      <td>NaN</td>\n",
              "      <td>NaN</td>\n",
              "      <td>NaN</td>\n",
              "      <td>NaN</td>\n",
              "      <td>3835.00</td>\n",
              "      <td>NaN</td>\n",
              "      <td>NaN</td>\n",
              "      <td>N</td>\n",
              "      <td>2016-05-04</td>\n",
              "      <td>NaN</td>\n",
              "      <td>NaN</td>\n",
              "      <td>S</td>\n",
              "      <td>J</td>\n",
              "      <td>9.255424e+12</td>\n",
              "      <td>NaN</td>\n",
              "      <td>NaN</td>\n",
              "      <td>NaN</td>\n",
              "      <td>S</td>\n",
              "      <td>NaN</td>\n",
              "      <td>NaN</td>\n",
              "      <td>NaN</td>\n",
              "      <td>N</td>\n",
              "    </tr>\n",
              "    <tr>\n",
              "      <th>...</th>\n",
              "      <td>...</td>\n",
              "      <td>...</td>\n",
              "      <td>...</td>\n",
              "      <td>...</td>\n",
              "      <td>...</td>\n",
              "      <td>...</td>\n",
              "      <td>...</td>\n",
              "      <td>...</td>\n",
              "      <td>...</td>\n",
              "      <td>...</td>\n",
              "      <td>...</td>\n",
              "      <td>...</td>\n",
              "      <td>...</td>\n",
              "      <td>...</td>\n",
              "      <td>...</td>\n",
              "      <td>...</td>\n",
              "      <td>...</td>\n",
              "      <td>...</td>\n",
              "      <td>...</td>\n",
              "      <td>...</td>\n",
              "      <td>...</td>\n",
              "      <td>...</td>\n",
              "      <td>...</td>\n",
              "      <td>...</td>\n",
              "      <td>...</td>\n",
              "      <td>...</td>\n",
              "      <td>...</td>\n",
              "      <td>...</td>\n",
              "      <td>...</td>\n",
              "      <td>...</td>\n",
              "      <td>...</td>\n",
              "      <td>...</td>\n",
              "      <td>...</td>\n",
              "      <td>...</td>\n",
              "      <td>...</td>\n",
              "      <td>...</td>\n",
              "      <td>...</td>\n",
              "      <td>...</td>\n",
              "      <td>...</td>\n",
              "      <td>...</td>\n",
              "      <td>...</td>\n",
              "      <td>...</td>\n",
              "      <td>...</td>\n",
              "      <td>...</td>\n",
              "      <td>...</td>\n",
              "      <td>...</td>\n",
              "      <td>...</td>\n",
              "      <td>...</td>\n",
              "      <td>...</td>\n",
              "      <td>...</td>\n",
              "      <td>...</td>\n",
              "      <td>...</td>\n",
              "      <td>...</td>\n",
              "      <td>...</td>\n",
              "      <td>...</td>\n",
              "      <td>...</td>\n",
              "      <td>...</td>\n",
              "      <td>...</td>\n",
              "      <td>...</td>\n",
              "      <td>...</td>\n",
              "      <td>...</td>\n",
              "    </tr>\n",
              "    <tr>\n",
              "      <th>30461</th>\n",
              "      <td>53302</td>\n",
              "      <td>INST. PREV. ASSIST. MUN. - NOVA PRATA</td>\n",
              "      <td>8.0</td>\n",
              "      <td>2016</td>\n",
              "      <td>PRD</td>\n",
              "      <td>NaN</td>\n",
              "      <td>NaN</td>\n",
              "      <td>NaN</td>\n",
              "      <td>8</td>\n",
              "      <td>2016</td>\n",
              "      <td>CSE</td>\n",
              "      <td>PUB</td>\n",
              "      <td>NSA</td>\n",
              "      <td>G</td>\n",
              "      <td>NaN</td>\n",
              "      <td>IU</td>\n",
              "      <td>N</td>\n",
              "      <td>NaN</td>\n",
              "      <td>NaN</td>\n",
              "      <td>N</td>\n",
              "      <td>P</td>\n",
              "      <td>NaN</td>\n",
              "      <td>NaN</td>\n",
              "      <td>NaN</td>\n",
              "      <td>NaN</td>\n",
              "      <td>NaN</td>\n",
              "      <td>NaN</td>\n",
              "      <td>NaN</td>\n",
              "      <td>NaN</td>\n",
              "      <td>NaN</td>\n",
              "      <td>N</td>\n",
              "      <td>NaN</td>\n",
              "      <td>NaN</td>\n",
              "      <td>NaN</td>\n",
              "      <td>MONITORAMENTO DE ALARME 24 HORAS, SISTEMA DE C...</td>\n",
              "      <td>A24II</td>\n",
              "      <td>NaN</td>\n",
              "      <td>NaN</td>\n",
              "      <td>NaN</td>\n",
              "      <td>NaN</td>\n",
              "      <td>NaN</td>\n",
              "      <td>NaN</td>\n",
              "      <td>NaN</td>\n",
              "      <td>2220.00</td>\n",
              "      <td>NaN</td>\n",
              "      <td>NaN</td>\n",
              "      <td>N</td>\n",
              "      <td>2016-11-01</td>\n",
              "      <td>NaN</td>\n",
              "      <td>NaN</td>\n",
              "      <td>S</td>\n",
              "      <td>J</td>\n",
              "      <td>1.728477e+13</td>\n",
              "      <td>NaN</td>\n",
              "      <td>NaN</td>\n",
              "      <td>NaN</td>\n",
              "      <td>S</td>\n",
              "      <td>NaN</td>\n",
              "      <td>NaN</td>\n",
              "      <td>NaN</td>\n",
              "      <td>N</td>\n",
              "    </tr>\n",
              "    <tr>\n",
              "      <th>30462</th>\n",
              "      <td>44500</td>\n",
              "      <td>PM DE CANOAS</td>\n",
              "      <td>2.0</td>\n",
              "      <td>2016</td>\n",
              "      <td>PRE</td>\n",
              "      <td>139.0</td>\n",
              "      <td>2019.0</td>\n",
              "      <td>G</td>\n",
              "      <td>958</td>\n",
              "      <td>2016</td>\n",
              "      <td>COM</td>\n",
              "      <td>ADH</td>\n",
              "      <td>MPR</td>\n",
              "      <td>L</td>\n",
              "      <td>NaN</td>\n",
              "      <td>LT</td>\n",
              "      <td>R</td>\n",
              "      <td>NaN</td>\n",
              "      <td>N</td>\n",
              "      <td>N</td>\n",
              "      <td>I</td>\n",
              "      <td>NaN</td>\n",
              "      <td>NaN</td>\n",
              "      <td>NaN</td>\n",
              "      <td>NaN</td>\n",
              "      <td>NaN</td>\n",
              "      <td>NaN</td>\n",
              "      <td>NaN</td>\n",
              "      <td>NaN</td>\n",
              "      <td>NaN</td>\n",
              "      <td>N</td>\n",
              "      <td>NaN</td>\n",
              "      <td>NaN</td>\n",
              "      <td>NaN</td>\n",
              "      <td>Registro de Preços para Fórmulas Infantis em a...</td>\n",
              "      <td>NaN</td>\n",
              "      <td>NaN</td>\n",
              "      <td>NaN</td>\n",
              "      <td>NaN</td>\n",
              "      <td>NaN</td>\n",
              "      <td>NaN</td>\n",
              "      <td>NaN</td>\n",
              "      <td>NaN</td>\n",
              "      <td>519172.20</td>\n",
              "      <td>S</td>\n",
              "      <td>NaN</td>\n",
              "      <td>N</td>\n",
              "      <td>2016-01-25</td>\n",
              "      <td>2016-03-04</td>\n",
              "      <td>2016-03-04</td>\n",
              "      <td>S</td>\n",
              "      <td>NaN</td>\n",
              "      <td>NaN</td>\n",
              "      <td>NaN</td>\n",
              "      <td>NaN</td>\n",
              "      <td>NaN</td>\n",
              "      <td>S</td>\n",
              "      <td>NaN</td>\n",
              "      <td>NaN</td>\n",
              "      <td>NaN</td>\n",
              "      <td>N</td>\n",
              "    </tr>\n",
              "    <tr>\n",
              "      <th>30463</th>\n",
              "      <td>46300</td>\n",
              "      <td>PM DE DOIS IRMÃOS</td>\n",
              "      <td>24.0</td>\n",
              "      <td>2016</td>\n",
              "      <td>CNV</td>\n",
              "      <td>445.0</td>\n",
              "      <td>2017.0</td>\n",
              "      <td>P</td>\n",
              "      <td>142</td>\n",
              "      <td>2016</td>\n",
              "      <td>CSE</td>\n",
              "      <td>ADH</td>\n",
              "      <td>MPR</td>\n",
              "      <td>G</td>\n",
              "      <td>NaN</td>\n",
              "      <td>LT</td>\n",
              "      <td>N</td>\n",
              "      <td>NaN</td>\n",
              "      <td>N</td>\n",
              "      <td>N</td>\n",
              "      <td>I</td>\n",
              "      <td>NaN</td>\n",
              "      <td>NaN</td>\n",
              "      <td>NaN</td>\n",
              "      <td>NaN</td>\n",
              "      <td>NaN</td>\n",
              "      <td>0.0</td>\n",
              "      <td>NaN</td>\n",
              "      <td>NaN</td>\n",
              "      <td>NaN</td>\n",
              "      <td>N</td>\n",
              "      <td>A</td>\n",
              "      <td>8.825489e+13</td>\n",
              "      <td>MUNICÍPIO DE DOIS IRMÃOS</td>\n",
              "      <td>Contratação de empresa especializada para a co...</td>\n",
              "      <td>NaN</td>\n",
              "      <td>NaN</td>\n",
              "      <td>NaN</td>\n",
              "      <td>NaN</td>\n",
              "      <td>NaN</td>\n",
              "      <td>NaN</td>\n",
              "      <td>NaN</td>\n",
              "      <td>NaN</td>\n",
              "      <td>4075.50</td>\n",
              "      <td>NaN</td>\n",
              "      <td>NaN</td>\n",
              "      <td>S</td>\n",
              "      <td>2016-11-03</td>\n",
              "      <td>2016-11-14</td>\n",
              "      <td>2016-11-14</td>\n",
              "      <td>N</td>\n",
              "      <td>NaN</td>\n",
              "      <td>NaN</td>\n",
              "      <td>J</td>\n",
              "      <td>6.354367e+12</td>\n",
              "      <td>4092.4</td>\n",
              "      <td>S</td>\n",
              "      <td>NaN</td>\n",
              "      <td>NaN</td>\n",
              "      <td>NaN</td>\n",
              "      <td>N</td>\n",
              "    </tr>\n",
              "    <tr>\n",
              "      <th>30464</th>\n",
              "      <td>46300</td>\n",
              "      <td>PM DE DOIS IRMÃOS</td>\n",
              "      <td>4.0</td>\n",
              "      <td>2016</td>\n",
              "      <td>CHP</td>\n",
              "      <td>445.0</td>\n",
              "      <td>2017.0</td>\n",
              "      <td>P</td>\n",
              "      <td>110</td>\n",
              "      <td>2016</td>\n",
              "      <td>CSE</td>\n",
              "      <td>ADH</td>\n",
              "      <td>MPR</td>\n",
              "      <td>I</td>\n",
              "      <td>NaN</td>\n",
              "      <td>LT</td>\n",
              "      <td>O</td>\n",
              "      <td>NaN</td>\n",
              "      <td>N</td>\n",
              "      <td>N</td>\n",
              "      <td>P</td>\n",
              "      <td>NaN</td>\n",
              "      <td>NaN</td>\n",
              "      <td>NaN</td>\n",
              "      <td>NaN</td>\n",
              "      <td>NaN</td>\n",
              "      <td>0.0</td>\n",
              "      <td>NaN</td>\n",
              "      <td>NaN</td>\n",
              "      <td>NaN</td>\n",
              "      <td>N</td>\n",
              "      <td>NaN</td>\n",
              "      <td>8.825489e+13</td>\n",
              "      <td>MUNICÍPIO DE DOIS IRMÃOS</td>\n",
              "      <td>gêneros alimentícios da agricultura familiar p...</td>\n",
              "      <td>OUTC</td>\n",
              "      <td>25.0</td>\n",
              "      <td>caput</td>\n",
              "      <td>8.666/93</td>\n",
              "      <td>NaN</td>\n",
              "      <td>NaN</td>\n",
              "      <td>NaN</td>\n",
              "      <td>NaN</td>\n",
              "      <td>118133.60</td>\n",
              "      <td>NaN</td>\n",
              "      <td>NaN</td>\n",
              "      <td>S</td>\n",
              "      <td>2016-07-15</td>\n",
              "      <td>2016-08-19</td>\n",
              "      <td>2016-08-19</td>\n",
              "      <td>S</td>\n",
              "      <td>NaN</td>\n",
              "      <td>NaN</td>\n",
              "      <td>NaN</td>\n",
              "      <td>NaN</td>\n",
              "      <td>NaN</td>\n",
              "      <td>S</td>\n",
              "      <td>NaN</td>\n",
              "      <td>NaN</td>\n",
              "      <td>NaN</td>\n",
              "      <td>N</td>\n",
              "    </tr>\n",
              "    <tr>\n",
              "      <th>30465</th>\n",
              "      <td>49100</td>\n",
              "      <td>PM DE GRAVATAÍ</td>\n",
              "      <td>2.0</td>\n",
              "      <td>2016</td>\n",
              "      <td>PRE</td>\n",
              "      <td>1335.0</td>\n",
              "      <td>2015.0</td>\n",
              "      <td>G</td>\n",
              "      <td>3</td>\n",
              "      <td>2016</td>\n",
              "      <td>CSE</td>\n",
              "      <td>EPU</td>\n",
              "      <td>MPR</td>\n",
              "      <td>I</td>\n",
              "      <td>NaN</td>\n",
              "      <td>IU</td>\n",
              "      <td>N</td>\n",
              "      <td>NaN</td>\n",
              "      <td>N</td>\n",
              "      <td>N</td>\n",
              "      <td>NaN</td>\n",
              "      <td>NaN</td>\n",
              "      <td>NaN</td>\n",
              "      <td>NaN</td>\n",
              "      <td>NaN</td>\n",
              "      <td>NaN</td>\n",
              "      <td>0.0</td>\n",
              "      <td>P</td>\n",
              "      <td>NaN</td>\n",
              "      <td>NaN</td>\n",
              "      <td>N</td>\n",
              "      <td>NaN</td>\n",
              "      <td>8.789099e+13</td>\n",
              "      <td>MUNICÍPIO DE GRAVATAI</td>\n",
              "      <td>Contratação de Empresa Para Prestação de Servi...</td>\n",
              "      <td>NaN</td>\n",
              "      <td>NaN</td>\n",
              "      <td>NaN</td>\n",
              "      <td>NaN</td>\n",
              "      <td>NaN</td>\n",
              "      <td>NaN</td>\n",
              "      <td>NaN</td>\n",
              "      <td>NaN</td>\n",
              "      <td>501955.08</td>\n",
              "      <td>N</td>\n",
              "      <td>NaN</td>\n",
              "      <td>S</td>\n",
              "      <td>2016-01-21</td>\n",
              "      <td>NaN</td>\n",
              "      <td>NaN</td>\n",
              "      <td>N</td>\n",
              "      <td>NaN</td>\n",
              "      <td>NaN</td>\n",
              "      <td>NaN</td>\n",
              "      <td>NaN</td>\n",
              "      <td>0.0</td>\n",
              "      <td>S</td>\n",
              "      <td>NaN</td>\n",
              "      <td>NaN</td>\n",
              "      <td>NaN</td>\n",
              "      <td>N</td>\n",
              "    </tr>\n",
              "  </tbody>\n",
              "</table>\n",
              "<p>30466 rows × 61 columns</p>\n",
              "</div>"
            ],
            "text/plain": [
              "       CD_ORGAO                               NM_ORGAO  NR_LICITACAO  \\\n",
              "0         84100                 PM DE ESPERANÇA DO SUL           1.0   \n",
              "1         84100                 PM DE ESPERANÇA DO SUL           4.0   \n",
              "2         82701                        CM DE XANGRI-LÁ           1.0   \n",
              "3         84100                 PM DE ESPERANÇA DO SUL           6.0   \n",
              "4         63900                         PM DE COTIPORÃ          36.0   \n",
              "...         ...                                    ...           ...   \n",
              "30461     53302  INST. PREV. ASSIST. MUN. - NOVA PRATA           8.0   \n",
              "30462     44500                           PM DE CANOAS           2.0   \n",
              "30463     46300                      PM DE DOIS IRMÃOS          24.0   \n",
              "30464     46300                      PM DE DOIS IRMÃOS           4.0   \n",
              "30465     49100                         PM DE GRAVATAÍ           2.0   \n",
              "\n",
              "       ANO_LICITACAO CD_TIPO_MODALIDADE  NR_COMISSAO  ANO_COMISSAO  \\\n",
              "0               2016                CNV         12.0        2016.0   \n",
              "1               2016                CNV         12.0        2016.0   \n",
              "2               2016                PRP         12.0        2016.0   \n",
              "3               2016                CNV         12.0        2016.0   \n",
              "4               2016                PRD          NaN           NaN   \n",
              "...              ...                ...          ...           ...   \n",
              "30461           2016                PRD          NaN           NaN   \n",
              "30462           2016                PRE        139.0        2019.0   \n",
              "30463           2016                CNV        445.0        2017.0   \n",
              "30464           2016                CHP        445.0        2017.0   \n",
              "30465           2016                PRE       1335.0        2015.0   \n",
              "\n",
              "      TP_COMISSAO NR_PROCESSO  ANO_PROCESSO TP_OBJETO CD_TIPO_FASE_ATUAL  \\\n",
              "0               P         001          2016       OUS                ADH   \n",
              "1               P         003          2016       COM                ADH   \n",
              "2               G          01          2016       COM                ADH   \n",
              "3               P         005          2016       COM                ADH   \n",
              "4             NaN         344          2016       CSE                PUB   \n",
              "...           ...         ...           ...       ...                ...   \n",
              "30461         NaN           8          2016       CSE                PUB   \n",
              "30462           G         958          2016       COM                ADH   \n",
              "30463           P         142          2016       CSE                ADH   \n",
              "30464           P         110          2016       CSE                ADH   \n",
              "30465           G           3          2016       CSE                EPU   \n",
              "\n",
              "      TP_LICITACAO TP_NIVEL_JULGAMENTO DT_AUTORIZACAO_ADESAO  \\\n",
              "0              MPR                   G                   NaN   \n",
              "1              MPR                   I                   NaN   \n",
              "2              MPR                   I                   NaN   \n",
              "3              MPR                   I                   NaN   \n",
              "4              NSA                   G                   NaN   \n",
              "...            ...                 ...                   ...   \n",
              "30461          NSA                   G                   NaN   \n",
              "30462          MPR                   L                   NaN   \n",
              "30463          MPR                   G                   NaN   \n",
              "30464          MPR                   I                   NaN   \n",
              "30465          MPR                   I                   NaN   \n",
              "\n",
              "      TP_CARACTERISTICA_OBJETO TP_NATUREZA TP_REGIME_EXECUCAO  \\\n",
              "0                           IU           N                NaN   \n",
              "1                           IT           N                NaN   \n",
              "2                           IT           N                NaN   \n",
              "3                           IT           N                NaN   \n",
              "4                           IT           N                NaN   \n",
              "...                        ...         ...                ...   \n",
              "30461                       IU           N                NaN   \n",
              "30462                       LT           R                NaN   \n",
              "30463                       LT           N                NaN   \n",
              "30464                       LT           O                NaN   \n",
              "30465                       IU           N                NaN   \n",
              "\n",
              "      BL_PERMITE_SUBCONTRATACAO TP_BENEFICIO_MICRO_EPP TP_FORNECIMENTO  \\\n",
              "0                             N                      N             NaN   \n",
              "1                             N                      N               P   \n",
              "2                             N                      N               I   \n",
              "3                             N                      N               I   \n",
              "4                           NaN                      N               I   \n",
              "...                         ...                    ...             ...   \n",
              "30461                       NaN                      N               P   \n",
              "30462                         N                      N               I   \n",
              "30463                         N                      N               I   \n",
              "30464                         N                      N               P   \n",
              "30465                         N                      N             NaN   \n",
              "\n",
              "      TP_ATUACAO_REGISTRO NR_LICITACAO_ORIGINAL  ANO_LICITACAO_ORIGINAL  \\\n",
              "0                     NaN                   NaN                     NaN   \n",
              "1                     NaN                   NaN                     NaN   \n",
              "2                     NaN                   NaN                     NaN   \n",
              "3                     NaN                   NaN                     NaN   \n",
              "4                     NaN                   NaN                     NaN   \n",
              "...                   ...                   ...                     ...   \n",
              "30461                 NaN                   NaN                     NaN   \n",
              "30462                 NaN                   NaN                     NaN   \n",
              "30463                 NaN                   NaN                     NaN   \n",
              "30464                 NaN                   NaN                     NaN   \n",
              "30465                 NaN                   NaN                     NaN   \n",
              "\n",
              "      NR_ATA_REGISTRO_PRECO DT_ATA_REGISTRO_PRECO  PC_TAXA_RISCO TP_EXECUCAO  \\\n",
              "0                       NaN                   NaN            NaN         NaN   \n",
              "1                       NaN                   NaN            NaN         NaN   \n",
              "2                       NaN                   NaN            NaN         NaN   \n",
              "3                       NaN                   NaN            NaN         NaN   \n",
              "4                       NaN                   NaN            NaN         NaN   \n",
              "...                     ...                   ...            ...         ...   \n",
              "30461                   NaN                   NaN            NaN         NaN   \n",
              "30462                   NaN                   NaN            NaN         NaN   \n",
              "30463                   NaN                   NaN            0.0         NaN   \n",
              "30464                   NaN                   NaN            0.0         NaN   \n",
              "30465                   NaN                   NaN            0.0           P   \n",
              "\n",
              "      TP_DISPUTA TP_PREQUALIFICACAO BL_INVERSAO_FASES TP_RESULTADO_GLOBAL  \\\n",
              "0            NaN                NaN                 N                   A   \n",
              "1            NaN                NaN                 N                 NaN   \n",
              "2            NaN                NaN                 N                 NaN   \n",
              "3            NaN                NaN                 N                 NaN   \n",
              "4            NaN                NaN                 N                 NaN   \n",
              "...          ...                ...               ...                 ...   \n",
              "30461        NaN                NaN                 N                 NaN   \n",
              "30462        NaN                NaN                 N                 NaN   \n",
              "30463        NaN                NaN                 N                   A   \n",
              "30464        NaN                NaN                 N                 NaN   \n",
              "30465        NaN                NaN                 N                 NaN   \n",
              "\n",
              "       CNPJ_ORGAO_GERENCIADOR      NM_ORGAO_GERENCIADOR  \\\n",
              "0                         NaN                       NaN   \n",
              "1                         NaN                       NaN   \n",
              "2                         NaN                       NaN   \n",
              "3                         NaN                       NaN   \n",
              "4                         NaN                       NaN   \n",
              "...                       ...                       ...   \n",
              "30461                     NaN                       NaN   \n",
              "30462                     NaN                       NaN   \n",
              "30463            8.825489e+13  MUNICÍPIO DE DOIS IRMÃOS   \n",
              "30464            8.825489e+13  MUNICÍPIO DE DOIS IRMÃOS   \n",
              "30465            8.789099e+13     MUNICÍPIO DE GRAVATAI   \n",
              "\n",
              "                                               DS_OBJETO  \\\n",
              "0      Contratação de arbitragem dos jogos do 2º camp...   \n",
              "1                          Aquisição de merenda escolar    \n",
              "2      AQUISIÇÃO DE PROTOCOLADORA E FRAGMENTADORA DE ...   \n",
              "3      Aquisição de materiais de limpeza para as dive...   \n",
              "4      CONTRATAÇÃO DE EMPRESA PARA FORNECIMENTO E INS...   \n",
              "...                                                  ...   \n",
              "30461  MONITORAMENTO DE ALARME 24 HORAS, SISTEMA DE C...   \n",
              "30462  Registro de Preços para Fórmulas Infantis em a...   \n",
              "30463  Contratação de empresa especializada para a co...   \n",
              "30464  gêneros alimentícios da agricultura familiar p...   \n",
              "30465  Contratação de Empresa Para Prestação de Servi...   \n",
              "\n",
              "      CD_TIPO_FUNDAMENTACAO  NR_ARTIGO DS_INCISO    DS_LEI  \\\n",
              "0                       NaN        NaN       NaN       NaN   \n",
              "1                       NaN        NaN       NaN       NaN   \n",
              "2                       NaN        NaN       NaN       NaN   \n",
              "3                       NaN        NaN       NaN       NaN   \n",
              "4                      OUTD       24.0        II   8666/93   \n",
              "...                     ...        ...       ...       ...   \n",
              "30461                 A24II        NaN       NaN       NaN   \n",
              "30462                   NaN        NaN       NaN       NaN   \n",
              "30463                   NaN        NaN       NaN       NaN   \n",
              "30464                  OUTC       25.0     caput  8.666/93   \n",
              "30465                   NaN        NaN       NaN       NaN   \n",
              "\n",
              "      DT_INICIO_INSCR_CRED DT_FIM_INSCR_CRED DT_INICIO_VIGEN_CRED  \\\n",
              "0                      NaN               NaN                  NaN   \n",
              "1                      NaN               NaN                  NaN   \n",
              "2                      NaN               NaN                  NaN   \n",
              "3                      NaN               NaN                  NaN   \n",
              "4                      NaN               NaN                  NaN   \n",
              "...                    ...               ...                  ...   \n",
              "30461                  NaN               NaN                  NaN   \n",
              "30462                  NaN               NaN                  NaN   \n",
              "30463                  NaN               NaN                  NaN   \n",
              "30464                  NaN               NaN                  NaN   \n",
              "30465                  NaN               NaN                  NaN   \n",
              "\n",
              "      DT_FIM_VIGEN_CRED  VL_LICITACAO BL_ORCAMENTO_SIGILOSO  \\\n",
              "0                   NaN       7000.00                   NaN   \n",
              "1                   NaN      11216.50                   NaN   \n",
              "2                   NaN           NaN                     S   \n",
              "3                   NaN      59810.60                   NaN   \n",
              "4                   NaN       3835.00                   NaN   \n",
              "...                 ...           ...                   ...   \n",
              "30461               NaN       2220.00                   NaN   \n",
              "30462               NaN     519172.20                     S   \n",
              "30463               NaN       4075.50                   NaN   \n",
              "30464               NaN     118133.60                   NaN   \n",
              "30465               NaN     501955.08                     N   \n",
              "\n",
              "      BL_RECEBE_INSCRICAO_PER_VIG BL_PERMITE_CONSORCIO DT_ABERTURA  \\\n",
              "0                             NaN                    N  2016-01-12   \n",
              "1                             NaN                    N  2016-01-22   \n",
              "2                             NaN                    N  2016-01-26   \n",
              "3                             NaN                    N  2016-02-02   \n",
              "4                             NaN                    N  2016-05-04   \n",
              "...                           ...                  ...         ...   \n",
              "30461                         NaN                    N  2016-11-01   \n",
              "30462                         NaN                    N  2016-01-25   \n",
              "30463                         NaN                    S  2016-11-03   \n",
              "30464                         NaN                    S  2016-07-15   \n",
              "30465                         NaN                    S  2016-01-21   \n",
              "\n",
              "      DT_HOMOLOGACAO DT_ADJUDICACAO BL_LICIT_PROPRIA_ORGAO  \\\n",
              "0         2016-01-19     2016-01-19                      S   \n",
              "1         2016-01-29     2016-01-29                      S   \n",
              "2         2016-02-01     2016-02-01                      S   \n",
              "3         2016-02-11     2016-02-11                      S   \n",
              "4                NaN            NaN                      S   \n",
              "...              ...            ...                    ...   \n",
              "30461            NaN            NaN                      S   \n",
              "30462     2016-03-04     2016-03-04                      S   \n",
              "30463     2016-11-14     2016-11-14                      N   \n",
              "30464     2016-08-19     2016-08-19                      S   \n",
              "30465            NaN            NaN                      N   \n",
              "\n",
              "      TP_DOCUMENTO_FORNECEDOR  NR_DOCUMENTO_FORNECEDOR TP_DOCUMENTO_VENCEDOR  \\\n",
              "0                         NaN                      NaN                     J   \n",
              "1                         NaN                      NaN                   NaN   \n",
              "2                         NaN                      NaN                   NaN   \n",
              "3                         NaN                      NaN                   NaN   \n",
              "4                           J             9.255424e+12                   NaN   \n",
              "...                       ...                      ...                   ...   \n",
              "30461                       J             1.728477e+13                   NaN   \n",
              "30462                     NaN                      NaN                   NaN   \n",
              "30463                     NaN                      NaN                     J   \n",
              "30464                     NaN                      NaN                   NaN   \n",
              "30465                     NaN                      NaN                   NaN   \n",
              "\n",
              "       NR_DOCUMENTO_VENCEDOR  VL_HOMOLOGADO BL_GERA_DESPESA DS_OBSERVACAO  \\\n",
              "0               6.233397e+12         6420.0               S           NaN   \n",
              "1                        NaN            NaN               S           NaN   \n",
              "2                        NaN            NaN               S           NaN   \n",
              "3                        NaN            NaN               S           NaN   \n",
              "4                        NaN            NaN               S           NaN   \n",
              "...                      ...            ...             ...           ...   \n",
              "30461                    NaN            NaN               S           NaN   \n",
              "30462                    NaN            NaN               S           NaN   \n",
              "30463           6.354367e+12         4092.4               S           NaN   \n",
              "30464                    NaN            NaN               S           NaN   \n",
              "30465                    NaN            0.0               S           NaN   \n",
              "\n",
              "       PC_TX_ESTIMADA  PC_TX_HOMOLOGADA BL_COMPARTILHADA  \n",
              "0                 NaN               NaN                N  \n",
              "1                 NaN               NaN                N  \n",
              "2                 NaN               NaN                N  \n",
              "3                 NaN               NaN                N  \n",
              "4                 NaN               NaN                N  \n",
              "...               ...               ...              ...  \n",
              "30461             NaN               NaN                N  \n",
              "30462             NaN               NaN                N  \n",
              "30463             NaN               NaN                N  \n",
              "30464             NaN               NaN                N  \n",
              "30465             NaN               NaN                N  \n",
              "\n",
              "[30466 rows x 61 columns]"
            ]
          },
          "metadata": {
            "tags": []
          },
          "execution_count": 74
        }
      ]
    },
    {
      "cell_type": "code",
      "metadata": {
        "colab": {
          "base_uri": "https://localhost:8080/"
        },
        "id": "gU5bHqPEGc1y",
        "outputId": "9ff89314-b516-4bd4-872f-88c9e342bd5e"
      },
      "source": [
        "train_data.shape"
      ],
      "execution_count": 75,
      "outputs": [
        {
          "output_type": "execute_result",
          "data": {
            "text/plain": [
              "(30466, 61)"
            ]
          },
          "metadata": {
            "tags": []
          },
          "execution_count": 75
        }
      ]
    },
    {
      "cell_type": "code",
      "metadata": {
        "colab": {
          "base_uri": "https://localhost:8080/"
        },
        "id": "z7BxxXCeGh8K",
        "outputId": "8e1905c3-74fe-4afa-cc89-835d601f58a1"
      },
      "source": [
        "train_data.isnull().sum().sum()"
      ],
      "execution_count": 76,
      "outputs": [
        {
          "output_type": "execute_result",
          "data": {
            "text/plain": [
              "936552"
            ]
          },
          "metadata": {
            "tags": []
          },
          "execution_count": 76
        }
      ]
    },
    {
      "cell_type": "code",
      "metadata": {
        "colab": {
          "base_uri": "https://localhost:8080/"
        },
        "id": "swZwcH_6GiAd",
        "outputId": "6ffa2066-ca9d-4934-e140-814d3d243538"
      },
      "source": [
        "All_features=train_data.columns.tolist()\n",
        "Numerical_features=['CD_ORGAO','NR_LICITACAO','NR_COMISSAO','ANO_COMISSAO','NR_PROCESSO','ANO_PROCESSO','PC_TAXA_RISCO','CNPJ_ORGAO_GERENCIADOR','VL_LICITACAO','DT_ABERTURA','DT_HOMOLOGACAO','DT_ADJUDICACAO','NR_DOCUMENTO_FORNECEDOR','NR_DOCUMENTO_VENCEDOR', \"VL_HOMOLOGADO\"]\n",
        "categorical_features=list(set(All_features) - set(Numerical_features))\n",
        "print(categorical_features)\n",
        "print(Numerical_features)"
      ],
      "execution_count": 78,
      "outputs": [
        {
          "output_type": "stream",
          "text": [
            "['DT_AUTORIZACAO_ADESAO', 'PC_TX_HOMOLOGADA', 'TP_OBJETO', 'BL_PERMITE_CONSORCIO', 'TP_NIVEL_JULGAMENTO', 'DT_ATA_REGISTRO_PRECO', 'NM_ORGAO', 'TP_RESULTADO_GLOBAL', 'TP_COMISSAO', 'TP_DISPUTA', 'NR_ARTIGO', 'PC_TX_ESTIMADA', 'TP_CARACTERISTICA_OBJETO', 'DT_FIM_INSCR_CRED', 'DT_INICIO_INSCR_CRED', 'TP_EXECUCAO', 'TP_PREQUALIFICACAO', 'TP_LICITACAO', 'NM_ORGAO_GERENCIADOR', 'BL_COMPARTILHADA', 'NR_LICITACAO_ORIGINAL', 'NR_ATA_REGISTRO_PRECO', 'CD_TIPO_FASE_ATUAL', 'BL_RECEBE_INSCRICAO_PER_VIG', 'TP_REGIME_EXECUCAO', 'BL_ORCAMENTO_SIGILOSO', 'TP_BENEFICIO_MICRO_EPP', 'DS_LEI', 'DS_OBSERVACAO', 'TP_NATUREZA', 'TP_DOCUMENTO_VENCEDOR', 'DS_OBJETO', 'CD_TIPO_MODALIDADE', 'ANO_LICITACAO', 'CD_TIPO_FUNDAMENTACAO', 'DT_FIM_VIGEN_CRED', 'BL_PERMITE_SUBCONTRATACAO', 'DT_INICIO_VIGEN_CRED', 'BL_GERA_DESPESA', 'TP_ATUACAO_REGISTRO', 'ANO_LICITACAO_ORIGINAL', 'TP_FORNECIMENTO', 'BL_INVERSAO_FASES', 'DS_INCISO', 'BL_LICIT_PROPRIA_ORGAO', 'TP_DOCUMENTO_FORNECEDOR']\n",
            "['CD_ORGAO', 'NR_LICITACAO', 'NR_COMISSAO', 'ANO_COMISSAO', 'NR_PROCESSO', 'ANO_PROCESSO', 'PC_TAXA_RISCO', 'CNPJ_ORGAO_GERENCIADOR', 'VL_LICITACAO', 'DT_ABERTURA', 'DT_HOMOLOGACAO', 'DT_ADJUDICACAO', 'NR_DOCUMENTO_FORNECEDOR', 'NR_DOCUMENTO_VENCEDOR', 'VL_HOMOLOGADO']\n"
          ],
          "name": "stdout"
        }
      ]
    },
    {
      "cell_type": "code",
      "metadata": {
        "colab": {
          "base_uri": "https://localhost:8080/"
        },
        "id": "uxaqPRldOGiD",
        "outputId": "592433a6-80e3-4b6a-fdb6-0aea5b81fc29"
      },
      "source": [
        "for cname in categorical_features:\n",
        "    print(cname+\" : \"+str(len(train_data[cname].unique())))"
      ],
      "execution_count": 82,
      "outputs": [
        {
          "output_type": "stream",
          "text": [
            "DT_AUTORIZACAO_ADESAO : 67\n",
            "PC_TX_HOMOLOGADA : 2\n",
            "TP_OBJETO : 8\n",
            "BL_PERMITE_CONSORCIO : 2\n",
            "TP_NIVEL_JULGAMENTO : 3\n",
            "DT_ATA_REGISTRO_PRECO : 76\n",
            "NM_ORGAO : 818\n",
            "TP_RESULTADO_GLOBAL : 6\n",
            "TP_COMISSAO : 6\n",
            "TP_DISPUTA : 4\n",
            "NR_ARTIGO : 32\n",
            "PC_TX_ESTIMADA : 2\n",
            "TP_CARACTERISTICA_OBJETO : 4\n",
            "DT_FIM_INSCR_CRED : 198\n",
            "DT_INICIO_INSCR_CRED : 185\n",
            "TP_EXECUCAO : 3\n",
            "TP_PREQUALIFICACAO : 3\n",
            "TP_LICITACAO : 13\n",
            "NM_ORGAO_GERENCIADOR : 127\n",
            "BL_COMPARTILHADA : 2\n",
            "NR_LICITACAO_ORIGINAL : 74\n",
            "NR_ATA_REGISTRO_PRECO : 113\n",
            "CD_TIPO_FASE_ATUAL : 4\n",
            "BL_RECEBE_INSCRICAO_PER_VIG : 3\n",
            "TP_REGIME_EXECUCAO : 6\n",
            "BL_ORCAMENTO_SIGILOSO : 3\n",
            "TP_BENEFICIO_MICRO_EPP : 4\n",
            "DS_LEI : 84\n",
            "DS_OBSERVACAO : 625\n",
            "TP_NATUREZA : 3\n",
            "TP_DOCUMENTO_VENCEDOR : 4\n",
            "DS_OBJETO : 27922\n",
            "CD_TIPO_MODALIDADE : 16\n",
            "ANO_LICITACAO : 1\n",
            "CD_TIPO_FUNDAMENTACAO : 23\n",
            "DT_FIM_VIGEN_CRED : 206\n",
            "BL_PERMITE_SUBCONTRATACAO : 3\n",
            "DT_INICIO_VIGEN_CRED : 172\n",
            "BL_GERA_DESPESA : 2\n",
            "TP_ATUACAO_REGISTRO : 3\n",
            "ANO_LICITACAO_ORIGINAL : 5\n",
            "TP_FORNECIMENTO : 3\n",
            "BL_INVERSAO_FASES : 2\n",
            "DS_INCISO : 93\n",
            "BL_LICIT_PROPRIA_ORGAO : 2\n",
            "TP_DOCUMENTO_FORNECEDOR : 3\n"
          ],
          "name": "stdout"
        }
      ]
    },
    {
      "cell_type": "code",
      "metadata": {
        "colab": {
          "base_uri": "https://localhost:8080/",
          "height": 316
        },
        "id": "q5H1lpnkZjbc",
        "outputId": "3756bda1-f5d5-438a-8607-ca094b970111"
      },
      "source": [
        "data.index = data.index.str.encode('utf-8')"
      ],
      "execution_count": 120,
      "outputs": [
        {
          "output_type": "error",
          "ename": "AttributeError",
          "evalue": "ignored",
          "traceback": [
            "\u001b[0;31m---------------------------------------------------------------------------\u001b[0m",
            "\u001b[0;31mAttributeError\u001b[0m                            Traceback (most recent call last)",
            "\u001b[0;32m<ipython-input-120-6b4567c133da>\u001b[0m in \u001b[0;36m<module>\u001b[0;34m()\u001b[0m\n\u001b[0;32m----> 1\u001b[0;31m \u001b[0mdata\u001b[0m\u001b[0;34m.\u001b[0m\u001b[0mindex\u001b[0m \u001b[0;34m=\u001b[0m \u001b[0mdata\u001b[0m\u001b[0;34m.\u001b[0m\u001b[0mindex\u001b[0m\u001b[0;34m.\u001b[0m\u001b[0mstr\u001b[0m\u001b[0;34m.\u001b[0m\u001b[0mencode\u001b[0m\u001b[0;34m(\u001b[0m\u001b[0;34m'utf-8'\u001b[0m\u001b[0;34m)\u001b[0m\u001b[0;34m\u001b[0m\u001b[0;34m\u001b[0m\u001b[0m\n\u001b[0m",
            "\u001b[0;32m/usr/local/lib/python3.7/dist-packages/pandas/core/accessor.py\u001b[0m in \u001b[0;36m__get__\u001b[0;34m(self, obj, cls)\u001b[0m\n\u001b[1;32m    185\u001b[0m             \u001b[0;31m# we're accessing the attribute of the class, i.e., Dataset.geo\u001b[0m\u001b[0;34m\u001b[0m\u001b[0;34m\u001b[0m\u001b[0;34m\u001b[0m\u001b[0m\n\u001b[1;32m    186\u001b[0m             \u001b[0;32mreturn\u001b[0m \u001b[0mself\u001b[0m\u001b[0;34m.\u001b[0m\u001b[0m_accessor\u001b[0m\u001b[0;34m\u001b[0m\u001b[0;34m\u001b[0m\u001b[0m\n\u001b[0;32m--> 187\u001b[0;31m         \u001b[0maccessor_obj\u001b[0m \u001b[0;34m=\u001b[0m \u001b[0mself\u001b[0m\u001b[0;34m.\u001b[0m\u001b[0m_accessor\u001b[0m\u001b[0;34m(\u001b[0m\u001b[0mobj\u001b[0m\u001b[0;34m)\u001b[0m\u001b[0;34m\u001b[0m\u001b[0;34m\u001b[0m\u001b[0m\n\u001b[0m\u001b[1;32m    188\u001b[0m         \u001b[0;31m# Replace the property with the accessor object. Inspired by:\u001b[0m\u001b[0;34m\u001b[0m\u001b[0;34m\u001b[0m\u001b[0;34m\u001b[0m\u001b[0m\n\u001b[1;32m    189\u001b[0m         \u001b[0;31m# https://www.pydanny.com/cached-property.html\u001b[0m\u001b[0;34m\u001b[0m\u001b[0;34m\u001b[0m\u001b[0;34m\u001b[0m\u001b[0m\n",
            "\u001b[0;32m/usr/local/lib/python3.7/dist-packages/pandas/core/strings.py\u001b[0m in \u001b[0;36m__init__\u001b[0;34m(self, data)\u001b[0m\n\u001b[1;32m   2098\u001b[0m \u001b[0;34m\u001b[0m\u001b[0m\n\u001b[1;32m   2099\u001b[0m     \u001b[0;32mdef\u001b[0m \u001b[0m__init__\u001b[0m\u001b[0;34m(\u001b[0m\u001b[0mself\u001b[0m\u001b[0;34m,\u001b[0m \u001b[0mdata\u001b[0m\u001b[0;34m)\u001b[0m\u001b[0;34m:\u001b[0m\u001b[0;34m\u001b[0m\u001b[0;34m\u001b[0m\u001b[0m\n\u001b[0;32m-> 2100\u001b[0;31m         \u001b[0mself\u001b[0m\u001b[0;34m.\u001b[0m\u001b[0m_inferred_dtype\u001b[0m \u001b[0;34m=\u001b[0m \u001b[0mself\u001b[0m\u001b[0;34m.\u001b[0m\u001b[0m_validate\u001b[0m\u001b[0;34m(\u001b[0m\u001b[0mdata\u001b[0m\u001b[0;34m)\u001b[0m\u001b[0;34m\u001b[0m\u001b[0;34m\u001b[0m\u001b[0m\n\u001b[0m\u001b[1;32m   2101\u001b[0m         \u001b[0mself\u001b[0m\u001b[0;34m.\u001b[0m\u001b[0m_is_categorical\u001b[0m \u001b[0;34m=\u001b[0m \u001b[0mis_categorical_dtype\u001b[0m\u001b[0;34m(\u001b[0m\u001b[0mdata\u001b[0m\u001b[0;34m.\u001b[0m\u001b[0mdtype\u001b[0m\u001b[0;34m)\u001b[0m\u001b[0;34m\u001b[0m\u001b[0;34m\u001b[0m\u001b[0m\n\u001b[1;32m   2102\u001b[0m         \u001b[0mself\u001b[0m\u001b[0;34m.\u001b[0m\u001b[0m_is_string\u001b[0m \u001b[0;34m=\u001b[0m \u001b[0mdata\u001b[0m\u001b[0;34m.\u001b[0m\u001b[0mdtype\u001b[0m\u001b[0;34m.\u001b[0m\u001b[0mname\u001b[0m \u001b[0;34m==\u001b[0m \u001b[0;34m\"string\"\u001b[0m\u001b[0;34m\u001b[0m\u001b[0;34m\u001b[0m\u001b[0m\n",
            "\u001b[0;32m/usr/local/lib/python3.7/dist-packages/pandas/core/strings.py\u001b[0m in \u001b[0;36m_validate\u001b[0;34m(data)\u001b[0m\n\u001b[1;32m   2155\u001b[0m \u001b[0;34m\u001b[0m\u001b[0m\n\u001b[1;32m   2156\u001b[0m         \u001b[0;32mif\u001b[0m \u001b[0minferred_dtype\u001b[0m \u001b[0;32mnot\u001b[0m \u001b[0;32min\u001b[0m \u001b[0mallowed_types\u001b[0m\u001b[0;34m:\u001b[0m\u001b[0;34m\u001b[0m\u001b[0;34m\u001b[0m\u001b[0m\n\u001b[0;32m-> 2157\u001b[0;31m             \u001b[0;32mraise\u001b[0m \u001b[0mAttributeError\u001b[0m\u001b[0;34m(\u001b[0m\u001b[0;34m\"Can only use .str accessor with string values!\"\u001b[0m\u001b[0;34m)\u001b[0m\u001b[0;34m\u001b[0m\u001b[0;34m\u001b[0m\u001b[0m\n\u001b[0m\u001b[1;32m   2158\u001b[0m         \u001b[0;32mreturn\u001b[0m \u001b[0minferred_dtype\u001b[0m\u001b[0;34m\u001b[0m\u001b[0;34m\u001b[0m\u001b[0m\n\u001b[1;32m   2159\u001b[0m \u001b[0;34m\u001b[0m\u001b[0m\n",
            "\u001b[0;31mAttributeError\u001b[0m: Can only use .str accessor with string values!"
          ]
        }
      ]
    },
    {
      "cell_type": "code",
      "metadata": {
        "id": "bkhCLg49Ro7U"
      },
      "source": [
        "X=data\n",
        "y=data.DT_HOMOLOGACAO"
      ],
      "execution_count": 121,
      "outputs": []
    },
    {
      "cell_type": "code",
      "metadata": {
        "id": "mbeDNdYfVzC-"
      },
      "source": [
        "import pandas as pd\n",
        "import numpy as np\n",
        "\n",
        "# for plotting\n",
        "import matplotlib.pyplot as plt\n",
        "import seaborn as sns\n",
        "\n",
        "# the dataset for the demo\n",
        "from sklearn.datasets import load_boston\n",
        "\n",
        "# for linear regression\n",
        "from sklearn.linear_model import LinearRegression"
      ],
      "execution_count": 122,
      "outputs": []
    },
    {
      "cell_type": "code",
      "metadata": {
        "id": "1rkFCPgDV1tT"
      },
      "source": [
        "from sklearn.model_selection import train_test_split"
      ],
      "execution_count": 123,
      "outputs": []
    },
    {
      "cell_type": "code",
      "metadata": {
        "id": "zg5wXaAGWuGD"
      },
      "source": [
        "x_train , x_test , y_train , y_test = train_test_split(X, y, test_size = 0.20,random_state =42)"
      ],
      "execution_count": 124,
      "outputs": []
    },
    {
      "cell_type": "code",
      "metadata": {
        "id": "dhym4wP6XmRn"
      },
      "source": [
        "reg = LinearRegression()"
      ],
      "execution_count": 125,
      "outputs": []
    },
    {
      "cell_type": "code",
      "metadata": {
        "colab": {
          "base_uri": "https://localhost:8080/",
          "height": 316
        },
        "id": "2xbDz8N0X-Jl",
        "outputId": "cbeab016-817f-4687-bf7d-77714fd1ea30"
      },
      "source": [
        "reg.fit(x_train,y_train)"
      ],
      "execution_count": 126,
      "outputs": [
        {
          "output_type": "error",
          "ename": "ValueError",
          "evalue": "ignored",
          "traceback": [
            "\u001b[0;31m---------------------------------------------------------------------------\u001b[0m",
            "\u001b[0;31mValueError\u001b[0m                                Traceback (most recent call last)",
            "\u001b[0;32m<ipython-input-126-ae4bf08b45bb>\u001b[0m in \u001b[0;36m<module>\u001b[0;34m()\u001b[0m\n\u001b[0;32m----> 1\u001b[0;31m \u001b[0mreg\u001b[0m\u001b[0;34m.\u001b[0m\u001b[0mfit\u001b[0m\u001b[0;34m(\u001b[0m\u001b[0mx_train\u001b[0m\u001b[0;34m,\u001b[0m\u001b[0my_train\u001b[0m\u001b[0;34m)\u001b[0m\u001b[0;34m\u001b[0m\u001b[0;34m\u001b[0m\u001b[0m\n\u001b[0m",
            "\u001b[0;32m/usr/local/lib/python3.7/dist-packages/sklearn/linear_model/_base.py\u001b[0m in \u001b[0;36mfit\u001b[0;34m(self, X, y, sample_weight)\u001b[0m\n\u001b[1;32m    490\u001b[0m         \u001b[0mn_jobs_\u001b[0m \u001b[0;34m=\u001b[0m \u001b[0mself\u001b[0m\u001b[0;34m.\u001b[0m\u001b[0mn_jobs\u001b[0m\u001b[0;34m\u001b[0m\u001b[0;34m\u001b[0m\u001b[0m\n\u001b[1;32m    491\u001b[0m         X, y = check_X_y(X, y, accept_sparse=['csr', 'csc', 'coo'],\n\u001b[0;32m--> 492\u001b[0;31m                          y_numeric=True, multi_output=True)\n\u001b[0m\u001b[1;32m    493\u001b[0m \u001b[0;34m\u001b[0m\u001b[0m\n\u001b[1;32m    494\u001b[0m         \u001b[0;32mif\u001b[0m \u001b[0msample_weight\u001b[0m \u001b[0;32mis\u001b[0m \u001b[0;32mnot\u001b[0m \u001b[0;32mNone\u001b[0m\u001b[0;34m:\u001b[0m\u001b[0;34m\u001b[0m\u001b[0;34m\u001b[0m\u001b[0m\n",
            "\u001b[0;32m/usr/local/lib/python3.7/dist-packages/sklearn/utils/validation.py\u001b[0m in \u001b[0;36mcheck_X_y\u001b[0;34m(X, y, accept_sparse, accept_large_sparse, dtype, order, copy, force_all_finite, ensure_2d, allow_nd, multi_output, ensure_min_samples, ensure_min_features, y_numeric, warn_on_dtype, estimator)\u001b[0m\n\u001b[1;32m    753\u001b[0m                     \u001b[0mensure_min_features\u001b[0m\u001b[0;34m=\u001b[0m\u001b[0mensure_min_features\u001b[0m\u001b[0;34m,\u001b[0m\u001b[0;34m\u001b[0m\u001b[0;34m\u001b[0m\u001b[0m\n\u001b[1;32m    754\u001b[0m                     \u001b[0mwarn_on_dtype\u001b[0m\u001b[0;34m=\u001b[0m\u001b[0mwarn_on_dtype\u001b[0m\u001b[0;34m,\u001b[0m\u001b[0;34m\u001b[0m\u001b[0;34m\u001b[0m\u001b[0m\n\u001b[0;32m--> 755\u001b[0;31m                     estimator=estimator)\n\u001b[0m\u001b[1;32m    756\u001b[0m     \u001b[0;32mif\u001b[0m \u001b[0mmulti_output\u001b[0m\u001b[0;34m:\u001b[0m\u001b[0;34m\u001b[0m\u001b[0;34m\u001b[0m\u001b[0m\n\u001b[1;32m    757\u001b[0m         y = check_array(y, 'csr', force_all_finite=True, ensure_2d=False,\n",
            "\u001b[0;32m/usr/local/lib/python3.7/dist-packages/sklearn/utils/validation.py\u001b[0m in \u001b[0;36mcheck_array\u001b[0;34m(array, accept_sparse, accept_large_sparse, dtype, order, copy, force_all_finite, ensure_2d, allow_nd, ensure_min_samples, ensure_min_features, warn_on_dtype, estimator)\u001b[0m\n\u001b[1;32m    529\u001b[0m                     \u001b[0marray\u001b[0m \u001b[0;34m=\u001b[0m \u001b[0marray\u001b[0m\u001b[0;34m.\u001b[0m\u001b[0mastype\u001b[0m\u001b[0;34m(\u001b[0m\u001b[0mdtype\u001b[0m\u001b[0;34m,\u001b[0m \u001b[0mcasting\u001b[0m\u001b[0;34m=\u001b[0m\u001b[0;34m\"unsafe\"\u001b[0m\u001b[0;34m,\u001b[0m \u001b[0mcopy\u001b[0m\u001b[0;34m=\u001b[0m\u001b[0;32mFalse\u001b[0m\u001b[0;34m)\u001b[0m\u001b[0;34m\u001b[0m\u001b[0;34m\u001b[0m\u001b[0m\n\u001b[1;32m    530\u001b[0m                 \u001b[0;32melse\u001b[0m\u001b[0;34m:\u001b[0m\u001b[0;34m\u001b[0m\u001b[0;34m\u001b[0m\u001b[0m\n\u001b[0;32m--> 531\u001b[0;31m                     \u001b[0marray\u001b[0m \u001b[0;34m=\u001b[0m \u001b[0mnp\u001b[0m\u001b[0;34m.\u001b[0m\u001b[0masarray\u001b[0m\u001b[0;34m(\u001b[0m\u001b[0marray\u001b[0m\u001b[0;34m,\u001b[0m \u001b[0morder\u001b[0m\u001b[0;34m=\u001b[0m\u001b[0morder\u001b[0m\u001b[0;34m,\u001b[0m \u001b[0mdtype\u001b[0m\u001b[0;34m=\u001b[0m\u001b[0mdtype\u001b[0m\u001b[0;34m)\u001b[0m\u001b[0;34m\u001b[0m\u001b[0;34m\u001b[0m\u001b[0m\n\u001b[0m\u001b[1;32m    532\u001b[0m             \u001b[0;32mexcept\u001b[0m \u001b[0mComplexWarning\u001b[0m\u001b[0;34m:\u001b[0m\u001b[0;34m\u001b[0m\u001b[0;34m\u001b[0m\u001b[0m\n\u001b[1;32m    533\u001b[0m                 raise ValueError(\"Complex data not supported\\n\"\n",
            "\u001b[0;32m/usr/local/lib/python3.7/dist-packages/numpy/core/_asarray.py\u001b[0m in \u001b[0;36masarray\u001b[0;34m(a, dtype, order)\u001b[0m\n\u001b[1;32m     81\u001b[0m \u001b[0;34m\u001b[0m\u001b[0m\n\u001b[1;32m     82\u001b[0m     \"\"\"\n\u001b[0;32m---> 83\u001b[0;31m     \u001b[0;32mreturn\u001b[0m \u001b[0marray\u001b[0m\u001b[0;34m(\u001b[0m\u001b[0ma\u001b[0m\u001b[0;34m,\u001b[0m \u001b[0mdtype\u001b[0m\u001b[0;34m,\u001b[0m \u001b[0mcopy\u001b[0m\u001b[0;34m=\u001b[0m\u001b[0;32mFalse\u001b[0m\u001b[0;34m,\u001b[0m \u001b[0morder\u001b[0m\u001b[0;34m=\u001b[0m\u001b[0morder\u001b[0m\u001b[0;34m)\u001b[0m\u001b[0;34m\u001b[0m\u001b[0;34m\u001b[0m\u001b[0m\n\u001b[0m\u001b[1;32m     84\u001b[0m \u001b[0;34m\u001b[0m\u001b[0m\n\u001b[1;32m     85\u001b[0m \u001b[0;34m\u001b[0m\u001b[0m\n",
            "\u001b[0;32m/usr/local/lib/python3.7/dist-packages/pandas/core/generic.py\u001b[0m in \u001b[0;36m__array__\u001b[0;34m(self, dtype)\u001b[0m\n\u001b[1;32m   1779\u001b[0m \u001b[0;34m\u001b[0m\u001b[0m\n\u001b[1;32m   1780\u001b[0m     \u001b[0;32mdef\u001b[0m \u001b[0m__array__\u001b[0m\u001b[0;34m(\u001b[0m\u001b[0mself\u001b[0m\u001b[0;34m,\u001b[0m \u001b[0mdtype\u001b[0m\u001b[0;34m=\u001b[0m\u001b[0;32mNone\u001b[0m\u001b[0;34m)\u001b[0m \u001b[0;34m->\u001b[0m \u001b[0mnp\u001b[0m\u001b[0;34m.\u001b[0m\u001b[0mndarray\u001b[0m\u001b[0;34m:\u001b[0m\u001b[0;34m\u001b[0m\u001b[0;34m\u001b[0m\u001b[0m\n\u001b[0;32m-> 1781\u001b[0;31m         \u001b[0;32mreturn\u001b[0m \u001b[0mnp\u001b[0m\u001b[0;34m.\u001b[0m\u001b[0masarray\u001b[0m\u001b[0;34m(\u001b[0m\u001b[0mself\u001b[0m\u001b[0;34m.\u001b[0m\u001b[0m_values\u001b[0m\u001b[0;34m,\u001b[0m \u001b[0mdtype\u001b[0m\u001b[0;34m=\u001b[0m\u001b[0mdtype\u001b[0m\u001b[0;34m)\u001b[0m\u001b[0;34m\u001b[0m\u001b[0;34m\u001b[0m\u001b[0m\n\u001b[0m\u001b[1;32m   1782\u001b[0m \u001b[0;34m\u001b[0m\u001b[0m\n\u001b[1;32m   1783\u001b[0m     \u001b[0;32mdef\u001b[0m \u001b[0m__array_wrap__\u001b[0m\u001b[0;34m(\u001b[0m\u001b[0mself\u001b[0m\u001b[0;34m,\u001b[0m \u001b[0mresult\u001b[0m\u001b[0;34m,\u001b[0m \u001b[0mcontext\u001b[0m\u001b[0;34m=\u001b[0m\u001b[0;32mNone\u001b[0m\u001b[0;34m)\u001b[0m\u001b[0;34m:\u001b[0m\u001b[0;34m\u001b[0m\u001b[0;34m\u001b[0m\u001b[0m\n",
            "\u001b[0;32m/usr/local/lib/python3.7/dist-packages/numpy/core/_asarray.py\u001b[0m in \u001b[0;36masarray\u001b[0;34m(a, dtype, order)\u001b[0m\n\u001b[1;32m     81\u001b[0m \u001b[0;34m\u001b[0m\u001b[0m\n\u001b[1;32m     82\u001b[0m     \"\"\"\n\u001b[0;32m---> 83\u001b[0;31m     \u001b[0;32mreturn\u001b[0m \u001b[0marray\u001b[0m\u001b[0;34m(\u001b[0m\u001b[0ma\u001b[0m\u001b[0;34m,\u001b[0m \u001b[0mdtype\u001b[0m\u001b[0;34m,\u001b[0m \u001b[0mcopy\u001b[0m\u001b[0;34m=\u001b[0m\u001b[0;32mFalse\u001b[0m\u001b[0;34m,\u001b[0m \u001b[0morder\u001b[0m\u001b[0;34m=\u001b[0m\u001b[0morder\u001b[0m\u001b[0;34m)\u001b[0m\u001b[0;34m\u001b[0m\u001b[0;34m\u001b[0m\u001b[0m\n\u001b[0m\u001b[1;32m     84\u001b[0m \u001b[0;34m\u001b[0m\u001b[0m\n\u001b[1;32m     85\u001b[0m \u001b[0;34m\u001b[0m\u001b[0m\n",
            "\u001b[0;31mValueError\u001b[0m: could not convert string to float: 'PM DE SANTA ROSA'"
          ]
        }
      ]
    }
  ]
}